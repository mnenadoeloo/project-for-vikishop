{
  "cells": [
    {
      "cell_type": "markdown",
      "metadata": {
        "toc": true,
        "id": "MpR32fNSgmm1"
      },
      "source": [
        "<h1>Содержание<span class=\"tocSkip\"></span></h1>\n",
        "<div class=\"toc\"><ul class=\"toc-item\"><li><span><a href=\"#Подготовка\" data-toc-modified-id=\"Подготовка-1\"><span class=\"toc-item-num\">1&nbsp;&nbsp;</span>Подготовка</a></span><ul class=\"toc-item\"><li><span><a href=\"#Пропуски:\" data-toc-modified-id=\"Пропуски:-1.1\"><span class=\"toc-item-num\">1.1&nbsp;&nbsp;</span>Пропуски:</a></span></li><li><span><a href=\"#Дубликаты:\" data-toc-modified-id=\"Дубликаты:-1.2\"><span class=\"toc-item-num\">1.2&nbsp;&nbsp;</span>Дубликаты:</a></span></li><li><span><a href=\"#График-подсчета:\" data-toc-modified-id=\"График-подсчета:-1.3\"><span class=\"toc-item-num\">1.3&nbsp;&nbsp;</span>График подсчета:</a></span></li><li><span><a href=\"#Мини-вывод:\" data-toc-modified-id=\"Мини-вывод:-1.4\"><span class=\"toc-item-num\">1.4&nbsp;&nbsp;</span>Мини-вывод:</a></span></li><li><span><a href=\"#Изменение-весов-в-модели-обучения.\" data-toc-modified-id=\"Изменение-весов-в-модели-обучения.-1.5\"><span class=\"toc-item-num\">1.5&nbsp;&nbsp;</span>Изменение весов в модели обучения.</a></span></li><li><span><a href=\"#Ресемплирование-с-уменьшением-класса-0.\" data-toc-modified-id=\"Ресемплирование-с-уменьшением-класса-0.-1.6\"><span class=\"toc-item-num\">1.6&nbsp;&nbsp;</span>Ресемплирование с уменьшением класса 0.</a></span></li><li><span><a href=\"#AUC-ROC:\" data-toc-modified-id=\"AUC-ROC:-1.7\"><span class=\"toc-item-num\">1.7&nbsp;&nbsp;</span>AUC-ROC:</a></span></li><li><span><a href=\"#Вывод-по-первой-главе:\" data-toc-modified-id=\"Вывод-по-первой-главе:-1.8\"><span class=\"toc-item-num\">1.8&nbsp;&nbsp;</span>Вывод по первой главе:</a></span></li></ul></li><li><span><a href=\"#Обучение\" data-toc-modified-id=\"Обучение-2\"><span class=\"toc-item-num\">2&nbsp;&nbsp;</span>Обучение</a></span><ul class=\"toc-item\"><li><span><a href=\"#DecisionTreeClassifier:\" data-toc-modified-id=\"DecisionTreeClassifier:-2.1\"><span class=\"toc-item-num\">2.1&nbsp;&nbsp;</span>DecisionTreeClassifier:</a></span></li><li><span><a href=\"#LogisticRegression:\" data-toc-modified-id=\"LogisticRegression:-2.2\"><span class=\"toc-item-num\">2.2&nbsp;&nbsp;</span>LogisticRegression:</a></span></li><li><span><a href=\"#SGDClassifier:\" data-toc-modified-id=\"SGDClassifier:-2.3\"><span class=\"toc-item-num\">2.3&nbsp;&nbsp;</span>SGDClassifier:</a></span></li><li><span><a href=\"#CatBoostClassifier:\" data-toc-modified-id=\"CatBoostClassifier:-2.4\"><span class=\"toc-item-num\">2.4&nbsp;&nbsp;</span>CatBoostClassifier:</a></span></li><li><span><a href=\"#Вывод:\" data-toc-modified-id=\"Вывод:-2.5\"><span class=\"toc-item-num\">2.5&nbsp;&nbsp;</span>Вывод:</a></span></li></ul></li><li><span><a href=\"#Выводы\" data-toc-modified-id=\"Выводы-3\"><span class=\"toc-item-num\">3&nbsp;&nbsp;</span>Выводы</a></span><ul class=\"toc-item\"><li><span><a href=\"#Итоговый-вывод:\" data-toc-modified-id=\"Итоговый-вывод:-3.1\"><span class=\"toc-item-num\">3.1&nbsp;&nbsp;</span>Итоговый вывод:</a></span></li></ul></li><li><span><a href=\"#Чек-лист-проверки\" data-toc-modified-id=\"Чек-лист-проверки-4\"><span class=\"toc-item-num\">4&nbsp;&nbsp;</span>Чек-лист проверки</a></span></li></ul></div>"
      ]
    },
    {
      "cell_type": "markdown",
      "metadata": {
        "id": "RY2IYcLggmm4"
      },
      "source": [
        "# Проект для «Викишоп»"
      ]
    },
    {
      "cell_type": "markdown",
      "metadata": {
        "id": "wdOEo6wGgmm6"
      },
      "source": [
        "Интернет-магазин «Викишоп» запускает новый сервис. Теперь пользователи могут редактировать и дополнять описания товаров, как в вики-сообществах. То есть клиенты предлагают свои правки и комментируют изменения других. Магазину нужен инструмент, который будет искать токсичные комментарии и отправлять их на модерацию. \n",
        "\n",
        "Обучите модель классифицировать комментарии на позитивные и негативные. В вашем распоряжении набор данных с разметкой о токсичности правок.\n",
        "\n",
        "Постройте модель со значением метрики качества *F1* не меньше 0.75. \n",
        "\n",
        "**Инструкция по выполнению проекта**\n",
        "\n",
        "1. Загрузите и подготовьте данные.\n",
        "2. Обучите разные модели. \n",
        "3. Сделайте выводы.\n",
        "\n",
        "Для выполнения проекта применять *BERT* необязательно, но вы можете попробовать.\n",
        "\n",
        "**Описание данных**\n",
        "\n",
        "Данные находятся в файле `toxic_comments.csv`. Столбец *text* в нём содержит текст комментария, а *toxic* — целевой признак."
      ]
    },
    {
      "cell_type": "markdown",
      "metadata": {
        "id": "oj_0xMHHgmm_"
      },
      "source": [
        "<div class=\"alert alert-success\">\n",
        "<font size=\"5\"><b>Комментарий ревьюера</b></font>\n",
        "\n",
        "Успех:\n",
        "\n",
        "Вступление в работу очень важно, так человек, который смотрит твой проект (и на работе в том числе) будет сразу введен в курс дела. \n",
        "     \n",
        "    \n",
        " \n",
        "\n",
        "<div class=\"alert alert-warning\">\n",
        "\n",
        "\n",
        "Совет: \n",
        "   \n",
        "Вопросик, при желании можешь ответить )\n",
        "    \n",
        "    \n",
        "- а почему по твоему была выбрана метрика f1? \n",
        "    \n",
        "    \n",
        "- а что если бы нам было нужно найти как можно больше токсичных комментариев, в этом случаи на какую метрику мы бы ориентировались?\n",
        "    \n",
        "    \n",
        "- каким образом мы можем изменить функцию ошибки в модели, чтобы она максимизировала интересующую нас метрику (accuracy, f1, precision, roc-auc итп)?    \n",
        "\n",
        "\n",
        "\n",
        "</div>"
      ]
    },
    {
      "cell_type": "markdown",
      "metadata": {
        "id": "njoQOyU5gmnB"
      },
      "source": [
        "## Подготовка"
      ]
    },
    {
      "cell_type": "code",
      "execution_count": null,
      "metadata": {
        "id": "vFgsAI04gmnD"
      },
      "outputs": [],
      "source": [
        "import pandas as pd\n",
        "import numpy as np\n",
        "import matplotlib.pyplot as plt\n",
        "import seaborn as sns\n",
        "import nltk\n",
        "from nltk.corpus import stopwords as nltk_stopwords\n",
        "import re\n",
        "from pymystem3 import Mystem\n",
        "from sklearn.metrics import f1_score, roc_auc_score, roc_curve\n",
        "from sklearn.model_selection import train_test_split, cross_val_score, GridSearchCV\n",
        "from sklearn.tree import DecisionTreeClassifier\n",
        "from sklearn.linear_model import LogisticRegression, SGDClassifier\n",
        "from catboost import CatBoostClassifier\n",
        "from sklearn.feature_extraction.text import TfidfVectorizer\n",
        "from sklearn.feature_extraction.text import CountVectorizer \n",
        "from nltk.stem import WordNetLemmatizer \n",
        "from sklearn.utils import shuffle\n",
        "from nltk.corpus import wordnet\n",
        "pd.set_option('display.max_colwidth', 1000)\n",
        "import warnings\n",
        "warnings.filterwarnings('ignore')"
      ]
    },
    {
      "cell_type": "code",
      "execution_count": null,
      "metadata": {
        "id": "dUtEvCmqgmnJ"
      },
      "outputs": [],
      "source": [
        "data = pd.read_csv('/datasets/toxic_comments.csv')"
      ]
    },
    {
      "cell_type": "markdown",
      "metadata": {
        "id": "5Mu2oCoHgmnL"
      },
      "source": [
        "Импортировали данные. Посмотрим на них. Исправим ошибки, если они есть."
      ]
    },
    {
      "cell_type": "code",
      "execution_count": null,
      "metadata": {
        "id": "fLNjAsylgmnM",
        "outputId": "21a4b267-145c-4812-86a6-50e121bb9ad0"
      },
      "outputs": [
        {
          "data": {
            "text/html": [
              "<div>\n",
              "<style scoped>\n",
              "    .dataframe tbody tr th:only-of-type {\n",
              "        vertical-align: middle;\n",
              "    }\n",
              "\n",
              "    .dataframe tbody tr th {\n",
              "        vertical-align: top;\n",
              "    }\n",
              "\n",
              "    .dataframe thead th {\n",
              "        text-align: right;\n",
              "    }\n",
              "</style>\n",
              "<table border=\"1\" class=\"dataframe\">\n",
              "  <thead>\n",
              "    <tr style=\"text-align: right;\">\n",
              "      <th></th>\n",
              "      <th>Unnamed: 0</th>\n",
              "      <th>text</th>\n",
              "      <th>toxic</th>\n",
              "    </tr>\n",
              "  </thead>\n",
              "  <tbody>\n",
              "    <tr>\n",
              "      <th>55461</th>\n",
              "      <td>55522</td>\n",
              "      <td>\"UN Civil not IN civil. \\nCongrats. You are very powerful. Being a PhD student you should know that its okay to use material from other sources as long as you cite the source. Being a PhD student you should also know what, when, how and where to cite. Your definition of vandalism seems to be \"\"Anybody who does not agree with me or obey me is a Vandal.\"\" Also, I find your interest in Students Islamic Organization of India to be fascinating. As an Indian, I wonder how many Pakistanis are interested in SIO. \\nI am surprised to learn from your website that you attend Urbana-Champaign and have attended BUET. I used to have a lot of respect for these universities. As a grad student, I am also surprised to learn that you are actually on the program committee of a conference. But then again, I really am not. I have been in grad school long enough to know that people like you are perfect for academia. You will do well. Goodbye. Lets hope our paths dont cross again.\\n\\n\"</td>\n",
              "      <td>0</td>\n",
              "    </tr>\n",
              "    <tr>\n",
              "      <th>77343</th>\n",
              "      <td>77419</td>\n",
              "      <td>(UTC)\\nQuasi turbine steam engine\\nFirstly, the Quasiturbine is a  steam engine.  It WORKS. It goes. Will those editors who vandalize, that is the correct word, on their own POV, when references are given, please desist. 188.223.226.180  10:14, 24 March 2013</td>\n",
              "      <td>0</td>\n",
              "    </tr>\n",
              "    <tr>\n",
              "      <th>89012</th>\n",
              "      <td>89095</td>\n",
              "      <td>Support split. I'd tried condensing it but it's rather tedious work, so couldn't promise to finish the job any time soon. Chopping into manageable portions might make condensing (which will still be necessary) less of an ordeal.</td>\n",
              "      <td>0</td>\n",
              "    </tr>\n",
              "    <tr>\n",
              "      <th>139602</th>\n",
              "      <td>139754</td>\n",
              "      <td>\"\\nThe more I think about it, the more I think \"\"we\"\" is the right wording. The problem is that the object of the sentence is \"\"Penn\"\" and without knowing that he said, \"\"they\"\" you're expecting him to use a first person singular, not a first person plural. I think the reason it feels awkward is that when it undergoes the transformation from singular to plural it does become slightly more ambiguous, because \"\"we\"\" refers to a group of people, but only one that includes Penn, which means it's either Penn &amp; Teller or the entire production staff of the show. When you go to \"\"they\"\", it could be any group of people, and because it doesn't say \"\"he\"\", you sort of need to think about what other possible groups Penn could be referring to. Obviously it only takes a few milliseconds to figure out what it means, but if you're reading along at full speed it can break the flow to have that happen.\\n\\nRegarding the colon wording (Penn said: \"\"the aim of the show is to ..\"\"), I understand what  ...</td>\n",
              "      <td>0</td>\n",
              "    </tr>\n",
              "    <tr>\n",
              "      <th>70823</th>\n",
              "      <td>70893</td>\n",
              "      <td>Yad Vashem|title= Wiktor Brillant Memorial Page</td>\n",
              "      <td>0</td>\n",
              "    </tr>\n",
              "  </tbody>\n",
              "</table>\n",
              "</div>"
            ],
            "text/plain": [
              "        Unnamed: 0  \\\n",
              "55461        55522   \n",
              "77343        77419   \n",
              "89012        89095   \n",
              "139602      139754   \n",
              "70823        70893   \n",
              "\n",
              "                                                                                                                                                                                                                                                                                                                                                                                                                                                                                                                                                                                                                                                                                                                                                                                                                                                                                                                                                                                                                                           text  \\\n",
              "55461                           \"UN Civil not IN civil. \\nCongrats. You are very powerful. Being a PhD student you should know that its okay to use material from other sources as long as you cite the source. Being a PhD student you should also know what, when, how and where to cite. Your definition of vandalism seems to be \"\"Anybody who does not agree with me or obey me is a Vandal.\"\" Also, I find your interest in Students Islamic Organization of India to be fascinating. As an Indian, I wonder how many Pakistanis are interested in SIO. \\nI am surprised to learn from your website that you attend Urbana-Champaign and have attended BUET. I used to have a lot of respect for these universities. As a grad student, I am also surprised to learn that you are actually on the program committee of a conference. But then again, I really am not. I have been in grad school long enough to know that people like you are perfect for academia. You will do well. Goodbye. Lets hope our paths dont cross again.\\n\\n\"   \n",
              "77343                                                                                                                                                                                                                                                                                                                                                                                                                                                                                                                                                                                                                                                                                                                                                                        (UTC)\\nQuasi turbine steam engine\\nFirstly, the Quasiturbine is a  steam engine.  It WORKS. It goes. Will those editors who vandalize, that is the correct word, on their own POV, when references are given, please desist. 188.223.226.180  10:14, 24 March 2013   \n",
              "89012                                                                                                                                                                                                                                                                                                                                                                                                                                                                                                                                                                                                                                                                                                                                                                                                      Support split. I'd tried condensing it but it's rather tedious work, so couldn't promise to finish the job any time soon. Chopping into manageable portions might make condensing (which will still be necessary) less of an ordeal.   \n",
              "139602  \"\\nThe more I think about it, the more I think \"\"we\"\" is the right wording. The problem is that the object of the sentence is \"\"Penn\"\" and without knowing that he said, \"\"they\"\" you're expecting him to use a first person singular, not a first person plural. I think the reason it feels awkward is that when it undergoes the transformation from singular to plural it does become slightly more ambiguous, because \"\"we\"\" refers to a group of people, but only one that includes Penn, which means it's either Penn & Teller or the entire production staff of the show. When you go to \"\"they\"\", it could be any group of people, and because it doesn't say \"\"he\"\", you sort of need to think about what other possible groups Penn could be referring to. Obviously it only takes a few milliseconds to figure out what it means, but if you're reading along at full speed it can break the flow to have that happen.\\n\\nRegarding the colon wording (Penn said: \"\"the aim of the show is to ..\"\"), I understand what  ...   \n",
              "70823                                                                                                                                                                                                                                                                                                                                                                                                                                                                                                                                                                                                                                                                                                                                                                                                                                                                                                                                                                                           Yad Vashem|title= Wiktor Brillant Memorial Page   \n",
              "\n",
              "        toxic  \n",
              "55461       0  \n",
              "77343       0  \n",
              "89012       0  \n",
              "139602      0  \n",
              "70823       0  "
            ]
          },
          "execution_count": 3,
          "metadata": {},
          "output_type": "execute_result"
        }
      ],
      "source": [
        "data.sample(5)"
      ]
    },
    {
      "cell_type": "code",
      "execution_count": null,
      "metadata": {
        "id": "JICnPq3hgmnQ",
        "outputId": "71c11cfe-3f1c-46eb-e51e-068e120f38ff"
      },
      "outputs": [
        {
          "name": "stdout",
          "output_type": "stream",
          "text": [
            "<class 'pandas.core.frame.DataFrame'>\n",
            "RangeIndex: 159292 entries, 0 to 159291\n",
            "Data columns (total 3 columns):\n",
            " #   Column      Non-Null Count   Dtype \n",
            "---  ------      --------------   ----- \n",
            " 0   Unnamed: 0  159292 non-null  int64 \n",
            " 1   text        159292 non-null  object\n",
            " 2   toxic       159292 non-null  int64 \n",
            "dtypes: int64(2), object(1)\n",
            "memory usage: 3.6+ MB\n"
          ]
        }
      ],
      "source": [
        "data.info()"
      ]
    },
    {
      "cell_type": "markdown",
      "metadata": {
        "id": "uZp5QCTCgmnR"
      },
      "source": [
        "### Пропуски:"
      ]
    },
    {
      "cell_type": "code",
      "execution_count": null,
      "metadata": {
        "scrolled": true,
        "id": "FvBaCEKggmnS",
        "outputId": "9f6f2678-f433-416b-d003-b8a9efee07e0"
      },
      "outputs": [
        {
          "data": {
            "text/plain": [
              "'Количество пропусков в столбце \"text\" в датасете: 0'"
            ]
          },
          "metadata": {},
          "output_type": "display_data"
        }
      ],
      "source": [
        "display(f'Количество пропусков в столбце \"text\" в датасете: {data.isna().sum()[0]}')"
      ]
    },
    {
      "cell_type": "code",
      "execution_count": null,
      "metadata": {
        "id": "tUi9zfnAgmnU",
        "outputId": "0110200d-6545-4a7d-e868-40e6084ce7fc"
      },
      "outputs": [
        {
          "data": {
            "text/plain": [
              "'Количество пропусков в столбце \"toxic\" в датасете: 0'"
            ]
          },
          "metadata": {},
          "output_type": "display_data"
        }
      ],
      "source": [
        "display(f'Количество пропусков в столбце \"toxic\" в датасете: {data.isna().sum()[1]}')"
      ]
    },
    {
      "cell_type": "markdown",
      "metadata": {
        "id": "PZ1WjsgQgmnV"
      },
      "source": [
        "### Дубликаты:"
      ]
    },
    {
      "cell_type": "code",
      "execution_count": null,
      "metadata": {
        "id": "n0XQUCotgmnV",
        "outputId": "e575cf43-36f5-4284-e2e3-4e3b3790b1c3"
      },
      "outputs": [
        {
          "data": {
            "text/plain": [
              "'Количество дубликатов в столбцах в датасете: 0'"
            ]
          },
          "metadata": {},
          "output_type": "display_data"
        }
      ],
      "source": [
        "display(f'Количество дубликатов в столбцах в датасете: {data.duplicated().sum()}')"
      ]
    },
    {
      "cell_type": "code",
      "execution_count": null,
      "metadata": {
        "id": "HIn37TD4gmnW",
        "outputId": "a546d8aa-6627-4c68-9772-c18778d76cd7"
      },
      "outputs": [
        {
          "data": {
            "text/plain": [
              "'Количество дубликатов в индексах в датасете: 0'"
            ]
          },
          "metadata": {},
          "output_type": "display_data"
        }
      ],
      "source": [
        "display(f'Количество дубликатов в индексах в датасете: {data.index.duplicated().sum()}')"
      ]
    },
    {
      "cell_type": "markdown",
      "metadata": {
        "id": "UrrEnGUNgmnY"
      },
      "source": [
        "### График подсчета:"
      ]
    },
    {
      "cell_type": "code",
      "execution_count": null,
      "metadata": {
        "id": "VsqN2Wt5gmnZ",
        "outputId": "c84f31a3-b8a3-4ca1-8791-b739a3709118"
      },
      "outputs": [
        {
          "data": {
            "text/plain": [
              "<AxesSubplot:xlabel='toxic', ylabel='count'>"
            ]
          },
          "execution_count": 9,
          "metadata": {},
          "output_type": "execute_result"
        },
        {
          "data": {
            "image/png": "[encoded data removed]",
            "text/plain": [
              "<Figure size 432x288 with 1 Axes>"
            ]
          },
          "metadata": {
            "needs_background": "light"
          },
          "output_type": "display_data"
        }
      ],
      "source": [
        "sns.countplot(data['toxic'])"
      ]
    },
    {
      "cell_type": "code",
      "execution_count": null,
      "metadata": {
        "id": "1Ke6CK61gmnZ",
        "outputId": "dd5cdbe9-58a9-4596-e1d0-e2b9b275d794"
      },
      "outputs": [
        {
          "data": {
            "text/plain": [
              "8.841344371679229"
            ]
          },
          "execution_count": 10,
          "metadata": {},
          "output_type": "execute_result"
        }
      ],
      "source": [
        "class_ratio = data['toxic'].value_counts()[0] / data['toxic'].value_counts()[1]\n",
        "class_ratio"
      ]
    },
    {
      "cell_type": "markdown",
      "metadata": {
        "id": "0dEc9L3dgmnb"
      },
      "source": [
        "### Мини-вывод:"
      ]
    },
    {
      "cell_type": "markdown",
      "metadata": {
        "id": "kuZjSseYgmnc"
      },
      "source": [
        "- Импортировали данные, посмотрели info.\n",
        "- Проверили датасет на пропуски, поняли, что пропусков нет.\n",
        "- Проверили датасет на дубликаты в индексах и столбцах - пропусков нет.\n",
        "- Увидели соотношение положительных и отрицательных твитов. Довольно сильная разница. Классы несбалансированны. Отрицательных комментариев больше почти в 9 раз."
      ]
    },
    {
      "cell_type": "markdown",
      "metadata": {
        "id": "1Ju_uaLAgmnc"
      },
      "source": [
        "Довольно много токсичных комментариев, относительно положительных комментариев. Разница почти в 9 раз. Проведем поиск лучшего способа балансировки и сравним качество, c помощью: \n",
        "- Изменение весов в модели обучения.\n",
        "- Ресемплирование с уменьшением класса 0.\n",
        "\n",
        "Upsampling не будем использовать из-за громоздкого набора данных."
      ]
    },
    {
      "cell_type": "code",
      "execution_count": null,
      "metadata": {
        "id": "XORU5m_Xgmnd"
      },
      "outputs": [],
      "source": [
        "def get_wordnet_pos(word):\n",
        "    tag = nltk.pos_tag([word])[0][1][0].upper()\n",
        "    tag_dict = {\"J\": wordnet.ADJ,\n",
        "                \"N\": wordnet.NOUN,\n",
        "                \"V\": wordnet.VERB,\n",
        "                \"R\": wordnet.ADV}\n",
        "    return tag_dict.get(tag, wordnet.NOUN)"
      ]
    },
    {
      "cell_type": "code",
      "execution_count": null,
      "metadata": {
        "id": "-CJcTR9Pgmnf",
        "outputId": "18691987-e448-4d6d-ee93-a652c1e4c252"
      },
      "outputs": [
        {
          "ename": "LookupError",
          "evalue": "\n**********************************************************************\n  Resource \u001b[93maveraged_perceptron_tagger\u001b[0m not found.\n  Please use the NLTK Downloader to obtain the resource:\n\n  \u001b[31m>>> import nltk\n  >>> nltk.download('averaged_perceptron_tagger')\n  \u001b[0m\n  For more information see: https://www.nltk.org/data.html\n\n  Attempted to load \u001b[93mtaggers/averaged_perceptron_tagger/averaged_perceptron_tagger.pickle\u001b[0m\n\n  Searched in:\n    - '/home/jovyan/nltk_data'\n    - '/opt/conda/nltk_data'\n    - '/opt/conda/share/nltk_data'\n    - '/opt/conda/lib/nltk_data'\n    - '/usr/share/nltk_data'\n    - '/usr/local/share/nltk_data'\n    - '/usr/lib/nltk_data'\n    - '/usr/local/lib/nltk_data'\n**********************************************************************\n",
          "output_type": "error",
          "traceback": [
            "\u001b[0;31m---------------------------------------------------------------------------\u001b[0m",
            "\u001b[0;31mLookupError\u001b[0m                               Traceback (most recent call last)",
            "\u001b[0;32m/tmp/ipykernel_30/2072846031.py\u001b[0m in \u001b[0;36m<module>\u001b[0;34m\u001b[0m\n\u001b[1;32m      6\u001b[0m     \u001b[0;32mreturn\u001b[0m \u001b[0;34m\" \"\u001b[0m\u001b[0;34m.\u001b[0m\u001b[0mjoin\u001b[0m\u001b[0;34m(\u001b[0m\u001b[0mcleared_text\u001b[0m\u001b[0;34m.\u001b[0m\u001b[0msplit\u001b[0m\u001b[0;34m(\u001b[0m\u001b[0;34m)\u001b[0m\u001b[0;34m)\u001b[0m\u001b[0;34m\u001b[0m\u001b[0;34m\u001b[0m\u001b[0m\n\u001b[1;32m      7\u001b[0m \u001b[0;34m\u001b[0m\u001b[0m\n\u001b[0;32m----> 8\u001b[0;31m \u001b[0mdata\u001b[0m\u001b[0;34m[\u001b[0m\u001b[0;34m'lemm_text'\u001b[0m\u001b[0;34m]\u001b[0m \u001b[0;34m=\u001b[0m \u001b[0mdata\u001b[0m\u001b[0;34m[\u001b[0m\u001b[0;34m'text'\u001b[0m\u001b[0;34m]\u001b[0m\u001b[0;34m.\u001b[0m\u001b[0mapply\u001b[0m\u001b[0;34m(\u001b[0m\u001b[0mlemmatize_text\u001b[0m\u001b[0;34m)\u001b[0m\u001b[0;34m\u001b[0m\u001b[0;34m\u001b[0m\u001b[0m\n\u001b[0m\u001b[1;32m      9\u001b[0m \u001b[0;34m\u001b[0m\u001b[0m\n\u001b[1;32m     10\u001b[0m \u001b[0mdata\u001b[0m \u001b[0;34m=\u001b[0m \u001b[0mdata\u001b[0m\u001b[0;34m.\u001b[0m\u001b[0mdrop\u001b[0m\u001b[0;34m(\u001b[0m\u001b[0;34m[\u001b[0m\u001b[0;34m'text'\u001b[0m\u001b[0;34m]\u001b[0m\u001b[0;34m,\u001b[0m \u001b[0maxis\u001b[0m\u001b[0;34m=\u001b[0m\u001b[0;36m1\u001b[0m\u001b[0;34m)\u001b[0m\u001b[0;34m\u001b[0m\u001b[0;34m\u001b[0m\u001b[0m\n",
            "\u001b[0;32m/opt/conda/lib/python3.9/site-packages/pandas/core/series.py\u001b[0m in \u001b[0;36mapply\u001b[0;34m(self, func, convert_dtype, args, **kwds)\u001b[0m\n\u001b[1;32m   4136\u001b[0m             \u001b[0;32melse\u001b[0m\u001b[0;34m:\u001b[0m\u001b[0;34m\u001b[0m\u001b[0;34m\u001b[0m\u001b[0m\n\u001b[1;32m   4137\u001b[0m                 \u001b[0mvalues\u001b[0m \u001b[0;34m=\u001b[0m \u001b[0mself\u001b[0m\u001b[0;34m.\u001b[0m\u001b[0mastype\u001b[0m\u001b[0;34m(\u001b[0m\u001b[0mobject\u001b[0m\u001b[0;34m)\u001b[0m\u001b[0;34m.\u001b[0m\u001b[0m_values\u001b[0m\u001b[0;34m\u001b[0m\u001b[0;34m\u001b[0m\u001b[0m\n\u001b[0;32m-> 4138\u001b[0;31m                 \u001b[0mmapped\u001b[0m \u001b[0;34m=\u001b[0m \u001b[0mlib\u001b[0m\u001b[0;34m.\u001b[0m\u001b[0mmap_infer\u001b[0m\u001b[0;34m(\u001b[0m\u001b[0mvalues\u001b[0m\u001b[0;34m,\u001b[0m \u001b[0mf\u001b[0m\u001b[0;34m,\u001b[0m \u001b[0mconvert\u001b[0m\u001b[0;34m=\u001b[0m\u001b[0mconvert_dtype\u001b[0m\u001b[0;34m)\u001b[0m\u001b[0;34m\u001b[0m\u001b[0;34m\u001b[0m\u001b[0m\n\u001b[0m\u001b[1;32m   4139\u001b[0m \u001b[0;34m\u001b[0m\u001b[0m\n\u001b[1;32m   4140\u001b[0m         \u001b[0;32mif\u001b[0m \u001b[0mlen\u001b[0m\u001b[0;34m(\u001b[0m\u001b[0mmapped\u001b[0m\u001b[0;34m)\u001b[0m \u001b[0;32mand\u001b[0m \u001b[0misinstance\u001b[0m\u001b[0;34m(\u001b[0m\u001b[0mmapped\u001b[0m\u001b[0;34m[\u001b[0m\u001b[0;36m0\u001b[0m\u001b[0;34m]\u001b[0m\u001b[0;34m,\u001b[0m \u001b[0mSeries\u001b[0m\u001b[0;34m)\u001b[0m\u001b[0;34m:\u001b[0m\u001b[0;34m\u001b[0m\u001b[0;34m\u001b[0m\u001b[0m\n",
            "\u001b[0;32mpandas/_libs/lib.pyx\u001b[0m in \u001b[0;36mpandas._libs.lib.map_infer\u001b[0;34m()\u001b[0m\n",
            "\u001b[0;32m/tmp/ipykernel_30/2072846031.py\u001b[0m in \u001b[0;36mlemmatize_text\u001b[0;34m(text)\u001b[0m\n\u001b[1;32m      2\u001b[0m     \u001b[0mtext\u001b[0m \u001b[0;34m=\u001b[0m \u001b[0mtext\u001b[0m\u001b[0;34m.\u001b[0m\u001b[0mlower\u001b[0m\u001b[0;34m(\u001b[0m\u001b[0;34m)\u001b[0m\u001b[0;34m\u001b[0m\u001b[0;34m\u001b[0m\u001b[0m\n\u001b[1;32m      3\u001b[0m     \u001b[0mlemmatizer\u001b[0m \u001b[0;34m=\u001b[0m \u001b[0mWordNetLemmatizer\u001b[0m\u001b[0;34m(\u001b[0m\u001b[0;34m)\u001b[0m\u001b[0;34m\u001b[0m\u001b[0;34m\u001b[0m\u001b[0m\n\u001b[0;32m----> 4\u001b[0;31m     \u001b[0mlemm_text\u001b[0m \u001b[0;34m=\u001b[0m \u001b[0;34m\"\"\u001b[0m\u001b[0;34m.\u001b[0m\u001b[0mjoin\u001b[0m\u001b[0;34m(\u001b[0m\u001b[0;34m[\u001b[0m\u001b[0mlemmatizer\u001b[0m\u001b[0;34m.\u001b[0m\u001b[0mlemmatize\u001b[0m\u001b[0;34m(\u001b[0m\u001b[0mw\u001b[0m\u001b[0;34m,\u001b[0m \u001b[0mget_wordnet_pos\u001b[0m\u001b[0;34m(\u001b[0m\u001b[0mw\u001b[0m\u001b[0;34m)\u001b[0m\u001b[0;34m)\u001b[0m \u001b[0;32mfor\u001b[0m \u001b[0mw\u001b[0m \u001b[0;32min\u001b[0m \u001b[0mnltk\u001b[0m\u001b[0;34m.\u001b[0m\u001b[0mword_tokenize\u001b[0m\u001b[0;34m(\u001b[0m\u001b[0mtext\u001b[0m\u001b[0;34m)\u001b[0m\u001b[0;34m]\u001b[0m\u001b[0;34m)\u001b[0m\u001b[0;34m\u001b[0m\u001b[0;34m\u001b[0m\u001b[0m\n\u001b[0m\u001b[1;32m      5\u001b[0m     \u001b[0mcleared_text\u001b[0m \u001b[0;34m=\u001b[0m \u001b[0mre\u001b[0m\u001b[0;34m.\u001b[0m\u001b[0msub\u001b[0m\u001b[0;34m(\u001b[0m\u001b[0;34mr'[^a-zA-Z]'\u001b[0m\u001b[0;34m,\u001b[0m \u001b[0;34m' '\u001b[0m\u001b[0;34m,\u001b[0m \u001b[0mlemm_text\u001b[0m\u001b[0;34m)\u001b[0m\u001b[0;34m\u001b[0m\u001b[0;34m\u001b[0m\u001b[0m\n\u001b[1;32m      6\u001b[0m     \u001b[0;32mreturn\u001b[0m \u001b[0;34m\" \"\u001b[0m\u001b[0;34m.\u001b[0m\u001b[0mjoin\u001b[0m\u001b[0;34m(\u001b[0m\u001b[0mcleared_text\u001b[0m\u001b[0;34m.\u001b[0m\u001b[0msplit\u001b[0m\u001b[0;34m(\u001b[0m\u001b[0;34m)\u001b[0m\u001b[0;34m)\u001b[0m\u001b[0;34m\u001b[0m\u001b[0;34m\u001b[0m\u001b[0m\n",
            "\u001b[0;32m/tmp/ipykernel_30/2072846031.py\u001b[0m in \u001b[0;36m<listcomp>\u001b[0;34m(.0)\u001b[0m\n\u001b[1;32m      2\u001b[0m     \u001b[0mtext\u001b[0m \u001b[0;34m=\u001b[0m \u001b[0mtext\u001b[0m\u001b[0;34m.\u001b[0m\u001b[0mlower\u001b[0m\u001b[0;34m(\u001b[0m\u001b[0;34m)\u001b[0m\u001b[0;34m\u001b[0m\u001b[0;34m\u001b[0m\u001b[0m\n\u001b[1;32m      3\u001b[0m     \u001b[0mlemmatizer\u001b[0m \u001b[0;34m=\u001b[0m \u001b[0mWordNetLemmatizer\u001b[0m\u001b[0;34m(\u001b[0m\u001b[0;34m)\u001b[0m\u001b[0;34m\u001b[0m\u001b[0;34m\u001b[0m\u001b[0m\n\u001b[0;32m----> 4\u001b[0;31m     \u001b[0mlemm_text\u001b[0m \u001b[0;34m=\u001b[0m \u001b[0;34m\"\"\u001b[0m\u001b[0;34m.\u001b[0m\u001b[0mjoin\u001b[0m\u001b[0;34m(\u001b[0m\u001b[0;34m[\u001b[0m\u001b[0mlemmatizer\u001b[0m\u001b[0;34m.\u001b[0m\u001b[0mlemmatize\u001b[0m\u001b[0;34m(\u001b[0m\u001b[0mw\u001b[0m\u001b[0;34m,\u001b[0m \u001b[0mget_wordnet_pos\u001b[0m\u001b[0;34m(\u001b[0m\u001b[0mw\u001b[0m\u001b[0;34m)\u001b[0m\u001b[0;34m)\u001b[0m \u001b[0;32mfor\u001b[0m \u001b[0mw\u001b[0m \u001b[0;32min\u001b[0m \u001b[0mnltk\u001b[0m\u001b[0;34m.\u001b[0m\u001b[0mword_tokenize\u001b[0m\u001b[0;34m(\u001b[0m\u001b[0mtext\u001b[0m\u001b[0;34m)\u001b[0m\u001b[0;34m]\u001b[0m\u001b[0;34m)\u001b[0m\u001b[0;34m\u001b[0m\u001b[0;34m\u001b[0m\u001b[0m\n\u001b[0m\u001b[1;32m      5\u001b[0m     \u001b[0mcleared_text\u001b[0m \u001b[0;34m=\u001b[0m \u001b[0mre\u001b[0m\u001b[0;34m.\u001b[0m\u001b[0msub\u001b[0m\u001b[0;34m(\u001b[0m\u001b[0;34mr'[^a-zA-Z]'\u001b[0m\u001b[0;34m,\u001b[0m \u001b[0;34m' '\u001b[0m\u001b[0;34m,\u001b[0m \u001b[0mlemm_text\u001b[0m\u001b[0;34m)\u001b[0m\u001b[0;34m\u001b[0m\u001b[0;34m\u001b[0m\u001b[0m\n\u001b[1;32m      6\u001b[0m     \u001b[0;32mreturn\u001b[0m \u001b[0;34m\" \"\u001b[0m\u001b[0;34m.\u001b[0m\u001b[0mjoin\u001b[0m\u001b[0;34m(\u001b[0m\u001b[0mcleared_text\u001b[0m\u001b[0;34m.\u001b[0m\u001b[0msplit\u001b[0m\u001b[0;34m(\u001b[0m\u001b[0;34m)\u001b[0m\u001b[0;34m)\u001b[0m\u001b[0;34m\u001b[0m\u001b[0;34m\u001b[0m\u001b[0m\n",
            "\u001b[0;32m/tmp/ipykernel_30/3939206059.py\u001b[0m in \u001b[0;36mget_wordnet_pos\u001b[0;34m(word)\u001b[0m\n\u001b[1;32m      1\u001b[0m \u001b[0;32mdef\u001b[0m \u001b[0mget_wordnet_pos\u001b[0m\u001b[0;34m(\u001b[0m\u001b[0mword\u001b[0m\u001b[0;34m)\u001b[0m\u001b[0;34m:\u001b[0m\u001b[0;34m\u001b[0m\u001b[0;34m\u001b[0m\u001b[0m\n\u001b[0;32m----> 2\u001b[0;31m     \u001b[0mtag\u001b[0m \u001b[0;34m=\u001b[0m \u001b[0mnltk\u001b[0m\u001b[0;34m.\u001b[0m\u001b[0mpos_tag\u001b[0m\u001b[0;34m(\u001b[0m\u001b[0;34m[\u001b[0m\u001b[0mword\u001b[0m\u001b[0;34m]\u001b[0m\u001b[0;34m)\u001b[0m\u001b[0;34m[\u001b[0m\u001b[0;36m0\u001b[0m\u001b[0;34m]\u001b[0m\u001b[0;34m[\u001b[0m\u001b[0;36m1\u001b[0m\u001b[0;34m]\u001b[0m\u001b[0;34m[\u001b[0m\u001b[0;36m0\u001b[0m\u001b[0;34m]\u001b[0m\u001b[0;34m.\u001b[0m\u001b[0mupper\u001b[0m\u001b[0;34m(\u001b[0m\u001b[0;34m)\u001b[0m\u001b[0;34m\u001b[0m\u001b[0;34m\u001b[0m\u001b[0m\n\u001b[0m\u001b[1;32m      3\u001b[0m     tag_dict = {\"J\": wordnet.ADJ,\n\u001b[1;32m      4\u001b[0m                 \u001b[0;34m\"N\"\u001b[0m\u001b[0;34m:\u001b[0m \u001b[0mwordnet\u001b[0m\u001b[0;34m.\u001b[0m\u001b[0mNOUN\u001b[0m\u001b[0;34m,\u001b[0m\u001b[0;34m\u001b[0m\u001b[0;34m\u001b[0m\u001b[0m\n\u001b[1;32m      5\u001b[0m                 \u001b[0;34m\"V\"\u001b[0m\u001b[0;34m:\u001b[0m \u001b[0mwordnet\u001b[0m\u001b[0;34m.\u001b[0m\u001b[0mVERB\u001b[0m\u001b[0;34m,\u001b[0m\u001b[0;34m\u001b[0m\u001b[0;34m\u001b[0m\u001b[0m\n",
            "\u001b[0;32m/opt/conda/lib/python3.9/site-packages/nltk/tag/__init__.py\u001b[0m in \u001b[0;36mpos_tag\u001b[0;34m(tokens, tagset, lang)\u001b[0m\n\u001b[1;32m    162\u001b[0m     \u001b[0;34m:\u001b[0m\u001b[0mrtype\u001b[0m\u001b[0;34m:\u001b[0m \u001b[0mlist\u001b[0m\u001b[0;34m(\u001b[0m\u001b[0mtuple\u001b[0m\u001b[0;34m(\u001b[0m\u001b[0mstr\u001b[0m\u001b[0;34m,\u001b[0m \u001b[0mstr\u001b[0m\u001b[0;34m)\u001b[0m\u001b[0;34m)\u001b[0m\u001b[0;34m\u001b[0m\u001b[0;34m\u001b[0m\u001b[0m\n\u001b[1;32m    163\u001b[0m     \"\"\"\n\u001b[0;32m--> 164\u001b[0;31m     \u001b[0mtagger\u001b[0m \u001b[0;34m=\u001b[0m \u001b[0m_get_tagger\u001b[0m\u001b[0;34m(\u001b[0m\u001b[0mlang\u001b[0m\u001b[0;34m)\u001b[0m\u001b[0;34m\u001b[0m\u001b[0;34m\u001b[0m\u001b[0m\n\u001b[0m\u001b[1;32m    165\u001b[0m     \u001b[0;32mreturn\u001b[0m \u001b[0m_pos_tag\u001b[0m\u001b[0;34m(\u001b[0m\u001b[0mtokens\u001b[0m\u001b[0;34m,\u001b[0m \u001b[0mtagset\u001b[0m\u001b[0;34m,\u001b[0m \u001b[0mtagger\u001b[0m\u001b[0;34m,\u001b[0m \u001b[0mlang\u001b[0m\u001b[0;34m)\u001b[0m\u001b[0;34m\u001b[0m\u001b[0;34m\u001b[0m\u001b[0m\n\u001b[1;32m    166\u001b[0m \u001b[0;34m\u001b[0m\u001b[0m\n",
            "\u001b[0;32m/opt/conda/lib/python3.9/site-packages/nltk/tag/__init__.py\u001b[0m in \u001b[0;36m_get_tagger\u001b[0;34m(lang)\u001b[0m\n\u001b[1;32m    104\u001b[0m         \u001b[0mtagger\u001b[0m\u001b[0;34m.\u001b[0m\u001b[0mload\u001b[0m\u001b[0;34m(\u001b[0m\u001b[0map_russian_model_loc\u001b[0m\u001b[0;34m)\u001b[0m\u001b[0;34m\u001b[0m\u001b[0;34m\u001b[0m\u001b[0m\n\u001b[1;32m    105\u001b[0m     \u001b[0;32melse\u001b[0m\u001b[0;34m:\u001b[0m\u001b[0;34m\u001b[0m\u001b[0;34m\u001b[0m\u001b[0m\n\u001b[0;32m--> 106\u001b[0;31m         \u001b[0mtagger\u001b[0m \u001b[0;34m=\u001b[0m \u001b[0mPerceptronTagger\u001b[0m\u001b[0;34m(\u001b[0m\u001b[0;34m)\u001b[0m\u001b[0;34m\u001b[0m\u001b[0;34m\u001b[0m\u001b[0m\n\u001b[0m\u001b[1;32m    107\u001b[0m     \u001b[0;32mreturn\u001b[0m \u001b[0mtagger\u001b[0m\u001b[0;34m\u001b[0m\u001b[0;34m\u001b[0m\u001b[0m\n\u001b[1;32m    108\u001b[0m \u001b[0;34m\u001b[0m\u001b[0m\n",
            "\u001b[0;32m/opt/conda/lib/python3.9/site-packages/nltk/tag/perceptron.py\u001b[0m in \u001b[0;36m__init__\u001b[0;34m(self, load)\u001b[0m\n\u001b[1;32m    166\u001b[0m         \u001b[0;32mif\u001b[0m \u001b[0mload\u001b[0m\u001b[0;34m:\u001b[0m\u001b[0;34m\u001b[0m\u001b[0;34m\u001b[0m\u001b[0m\n\u001b[1;32m    167\u001b[0m             AP_MODEL_LOC = \"file:\" + str(\n\u001b[0;32m--> 168\u001b[0;31m                 \u001b[0mfind\u001b[0m\u001b[0;34m(\u001b[0m\u001b[0;34m\"taggers/averaged_perceptron_tagger/\"\u001b[0m \u001b[0;34m+\u001b[0m \u001b[0mPICKLE\u001b[0m\u001b[0;34m)\u001b[0m\u001b[0;34m\u001b[0m\u001b[0;34m\u001b[0m\u001b[0m\n\u001b[0m\u001b[1;32m    169\u001b[0m             )\n\u001b[1;32m    170\u001b[0m             \u001b[0mself\u001b[0m\u001b[0;34m.\u001b[0m\u001b[0mload\u001b[0m\u001b[0;34m(\u001b[0m\u001b[0mAP_MODEL_LOC\u001b[0m\u001b[0;34m)\u001b[0m\u001b[0;34m\u001b[0m\u001b[0;34m\u001b[0m\u001b[0m\n",
            "\u001b[0;32m/opt/conda/lib/python3.9/site-packages/nltk/data.py\u001b[0m in \u001b[0;36mfind\u001b[0;34m(resource_name, paths)\u001b[0m\n\u001b[1;32m    581\u001b[0m     \u001b[0msep\u001b[0m \u001b[0;34m=\u001b[0m \u001b[0;34m\"*\"\u001b[0m \u001b[0;34m*\u001b[0m \u001b[0;36m70\u001b[0m\u001b[0;34m\u001b[0m\u001b[0;34m\u001b[0m\u001b[0m\n\u001b[1;32m    582\u001b[0m     \u001b[0mresource_not_found\u001b[0m \u001b[0;34m=\u001b[0m \u001b[0;34m\"\\n%s\\n%s\\n%s\\n\"\u001b[0m \u001b[0;34m%\u001b[0m \u001b[0;34m(\u001b[0m\u001b[0msep\u001b[0m\u001b[0;34m,\u001b[0m \u001b[0mmsg\u001b[0m\u001b[0;34m,\u001b[0m \u001b[0msep\u001b[0m\u001b[0;34m)\u001b[0m\u001b[0;34m\u001b[0m\u001b[0;34m\u001b[0m\u001b[0m\n\u001b[0;32m--> 583\u001b[0;31m     \u001b[0;32mraise\u001b[0m \u001b[0mLookupError\u001b[0m\u001b[0;34m(\u001b[0m\u001b[0mresource_not_found\u001b[0m\u001b[0;34m)\u001b[0m\u001b[0;34m\u001b[0m\u001b[0;34m\u001b[0m\u001b[0m\n\u001b[0m\u001b[1;32m    584\u001b[0m \u001b[0;34m\u001b[0m\u001b[0m\n\u001b[1;32m    585\u001b[0m \u001b[0;34m\u001b[0m\u001b[0m\n",
            "\u001b[0;31mLookupError\u001b[0m: \n**********************************************************************\n  Resource \u001b[93maveraged_perceptron_tagger\u001b[0m not found.\n  Please use the NLTK Downloader to obtain the resource:\n\n  \u001b[31m>>> import nltk\n  >>> nltk.download('averaged_perceptron_tagger')\n  \u001b[0m\n  For more information see: https://www.nltk.org/data.html\n\n  Attempted to load \u001b[93mtaggers/averaged_perceptron_tagger/averaged_perceptron_tagger.pickle\u001b[0m\n\n  Searched in:\n    - '/home/jovyan/nltk_data'\n    - '/opt/conda/nltk_data'\n    - '/opt/conda/share/nltk_data'\n    - '/opt/conda/lib/nltk_data'\n    - '/usr/share/nltk_data'\n    - '/usr/local/share/nltk_data'\n    - '/usr/lib/nltk_data'\n    - '/usr/local/lib/nltk_data'\n**********************************************************************\n"
          ]
        }
      ],
      "source": [
        "def lemmatize_text(text):\n",
        "    text = text.lower()\n",
        "    lemmatizer = WordNetLemmatizer()\n",
        "    lemm_text = \"\".join([lemmatizer.lemmatize(w, get_wordnet_pos(w)) for w in nltk.word_tokenize(text)])\n",
        "    cleared_text = re.sub(r'[^a-zA-Z]', ' ', lemm_text) \n",
        "    return \" \".join(cleared_text.split())\n",
        "\n",
        "data['lemm_text'] = data['text'].apply(lemmatize_text)\n",
        "\n",
        "data = data.drop(['text'], axis=1)"
      ]
    },
    {
      "cell_type": "code",
      "execution_count": null,
      "metadata": {
        "scrolled": false,
        "id": "71slEm9Zgmnk",
        "outputId": "15823683-7c0d-4a6a-a21b-d0f4f0b0fc81"
      },
      "outputs": [
        {
          "data": {
            "text/html": [
              "<div>\n",
              "<style scoped>\n",
              "    .dataframe tbody tr th:only-of-type {\n",
              "        vertical-align: middle;\n",
              "    }\n",
              "\n",
              "    .dataframe tbody tr th {\n",
              "        vertical-align: top;\n",
              "    }\n",
              "\n",
              "    .dataframe thead th {\n",
              "        text-align: right;\n",
              "    }\n",
              "</style>\n",
              "<table border=\"1\" class=\"dataframe\">\n",
              "  <thead>\n",
              "    <tr style=\"text-align: right;\">\n",
              "      <th></th>\n",
              "      <th>toxic</th>\n",
              "      <th>lemm_text</th>\n",
              "    </tr>\n",
              "  </thead>\n",
              "  <tbody>\n",
              "    <tr>\n",
              "      <th>0</th>\n",
              "      <td>0</td>\n",
              "      <td>explanation why the edits made under my username hardcore metallica fan were reverted they weren t vandalisms just closure on some gas after i voted at new york dolls fac and please don t remove the template from the talk page since i m retired now</td>\n",
              "    </tr>\n",
              "    <tr>\n",
              "      <th>1</th>\n",
              "      <td>0</td>\n",
              "      <td>d aww he matches this background colour i m seemingly stuck with thanks talk january utc</td>\n",
              "    </tr>\n",
              "    <tr>\n",
              "      <th>2</th>\n",
              "      <td>0</td>\n",
              "      <td>hey man i m really not trying to edit war it s just that this guy is constantly removing relevant information and talking to me through edits instead of my talk page he seems to care more about the formatting than the actual info</td>\n",
              "    </tr>\n",
              "    <tr>\n",
              "      <th>3</th>\n",
              "      <td>0</td>\n",
              "      <td>more i can t make any real suggestions on improvement i wondered if the section statistics should be later on or a subsection of types of accidents i think the references may need tidying so that they are all in the exact same format ie date format etc i can do that later on if no one else does first if you have any preferences for formatting style on references or want to do it yourself please let me know there appears to be a backlog on articles for review so i guess there may be a delay until a reviewer turns up it s listed in the relevant form eg wikipedia good article nominationstransport</td>\n",
              "    </tr>\n",
              "    <tr>\n",
              "      <th>4</th>\n",
              "      <td>0</td>\n",
              "      <td>you sir are my hero any chance you remember what page that s on</td>\n",
              "    </tr>\n",
              "  </tbody>\n",
              "</table>\n",
              "</div>"
            ],
            "text/plain": [
              "   toxic  \\\n",
              "0      0   \n",
              "1      0   \n",
              "2      0   \n",
              "3      0   \n",
              "4      0   \n",
              "\n",
              "                                                                                                                                                                                                                                                                                                                                                                                                                                                                                                                                                                                                                  lemm_text  \n",
              "0                                                                                                                                                                                                                                                                                                                                                                  explanation why the edits made under my username hardcore metallica fan were reverted they weren t vandalisms just closure on some gas after i voted at new york dolls fac and please don t remove the template from the talk page since i m retired now  \n",
              "1                                                                                                                                                                                                                                                                                                                                                                                                                                                                                                                                  d aww he matches this background colour i m seemingly stuck with thanks talk january utc  \n",
              "2                                                                                                                                                                                                                                                                                                                                                                                     hey man i m really not trying to edit war it s just that this guy is constantly removing relevant information and talking to me through edits instead of my talk page he seems to care more about the formatting than the actual info  \n",
              "3  more i can t make any real suggestions on improvement i wondered if the section statistics should be later on or a subsection of types of accidents i think the references may need tidying so that they are all in the exact same format ie date format etc i can do that later on if no one else does first if you have any preferences for formatting style on references or want to do it yourself please let me know there appears to be a backlog on articles for review so i guess there may be a delay until a reviewer turns up it s listed in the relevant form eg wikipedia good article nominationstransport  \n",
              "4                                                                                                                                                                                                                                                                                                                                                                                                                                                                                                                                                           you sir are my hero any chance you remember what page that s on  "
            ]
          },
          "execution_count": 12,
          "metadata": {},
          "output_type": "execute_result"
        }
      ],
      "source": [
        "data.head()"
      ]
    },
    {
      "cell_type": "markdown",
      "metadata": {
        "id": "4oVrnn-ggmnm"
      },
      "source": [
        "Разобьем выборку по отношению 60/20/20. "
      ]
    },
    {
      "cell_type": "code",
      "execution_count": null,
      "metadata": {
        "id": "BWj3olqxgmnm"
      },
      "outputs": [],
      "source": [
        "target = data['toxic']\n",
        "features = data.drop(['toxic'], axis=1)\n",
        "\n",
        "features_train, features_valid, target_train, target_valid = train_test_split(\n",
        "    features, target, test_size=0.4, random_state=12345)\n",
        "features_valid, features_test, target_valid, target_test = train_test_split(\n",
        "    features_valid, target_valid, test_size=0.5, random_state=12345)"
      ]
    },
    {
      "cell_type": "code",
      "execution_count": null,
      "metadata": {
        "id": "A7oAeJ22gmnn",
        "outputId": "c9b3aaf8-0c9d-412a-b4ed-f5c9e39fe611"
      },
      "outputs": [
        {
          "name": "stderr",
          "output_type": "stream",
          "text": [
            "[nltk_data] Downloading package stopwords to /home/jovyan/nltk_data...\n",
            "[nltk_data]   Unzipping corpora/stopwords.zip.\n"
          ]
        },
        {
          "data": {
            "text/plain": [
              "'Размер обучающей выборки: (95742, 126482)'"
            ]
          },
          "metadata": {},
          "output_type": "display_data"
        },
        {
          "data": {
            "text/plain": [
              "'Размер валидационной выборки: (31914, 126482)'"
            ]
          },
          "metadata": {},
          "output_type": "display_data"
        },
        {
          "data": {
            "text/plain": [
              "'Размер тестовой выборки: (31915, 126482)'"
            ]
          },
          "metadata": {},
          "output_type": "display_data"
        }
      ],
      "source": [
        "nltk.download('stopwords')\n",
        "stopwords = set(nltk_stopwords.words('english'))\n",
        "\n",
        "count_tf_idf = TfidfVectorizer(stop_words=stopwords)\n",
        "\n",
        "features_train = count_tf_idf.fit_transform(features_train['lemm_text'])\n",
        "features_valid = count_tf_idf.transform(features_valid['lemm_text'])\n",
        "features_test = count_tf_idf.transform(features_test['lemm_text'])\n",
        "display(f'Размер обучающей выборки: {features_train.shape}')\n",
        "display(f'Размер валидационной выборки: {features_valid.shape}')\n",
        "display(f'Размер тестовой выборки: {features_test.shape}')"
      ]
    },
    {
      "cell_type": "markdown",
      "metadata": {
        "id": "dnzbR613gmoN"
      },
      "source": [
        "Посмотрим на значение f1 без балансировки, а потом сравним с сбалансированными данными."
      ]
    },
    {
      "cell_type": "code",
      "execution_count": null,
      "metadata": {
        "id": "jNQst3NjgmoN",
        "outputId": "73271421-0fd1-4d81-9a12-6e4079ba8e9c"
      },
      "outputs": [
        {
          "data": {
            "text/plain": [
              "'F1 на CV: 0.6732751694870752'"
            ]
          },
          "metadata": {},
          "output_type": "display_data"
        }
      ],
      "source": [
        "model = LogisticRegression()\n",
        "score_f1 = cross_val_score(model, \n",
        "                      features_train, \n",
        "                      target_train, \n",
        "                      cv=3, \n",
        "                      scoring='f1').mean()\n",
        "display(f'F1 на CV: {score_f1}')"
      ]
    },
    {
      "cell_type": "markdown",
      "metadata": {
        "id": "oTyVGvD8gmoO"
      },
      "source": [
        "### Изменение весов в модели обучения."
      ]
    },
    {
      "cell_type": "code",
      "execution_count": null,
      "metadata": {
        "id": "XXCi8YEGgmoQ",
        "outputId": "0f28f9b4-e2c5-4488-cd14-1526f4299ead"
      },
      "outputs": [
        {
          "data": {
            "text/plain": [
              "'F1 на CV с балансированными классами: 0.751508005539078'"
            ]
          },
          "metadata": {},
          "output_type": "display_data"
        }
      ],
      "source": [
        "dict_classes={0:1, 1:class_ratio}\n",
        "model_LR = LogisticRegression(class_weight = dict_classes)\n",
        "train_f1_ballanced = cross_val_score(\n",
        "    model_LR, features_train, target_train, cv=3, scoring='f1').mean()\n",
        "display(f'F1 на CV с балансированными классами: {train_f1_ballanced}')"
      ]
    },
    {
      "cell_type": "code",
      "execution_count": null,
      "metadata": {
        "id": "SYY-WHX0gmoS",
        "outputId": "37becc19-9423-46f1-92e9-04ae39fcc6d1"
      },
      "outputs": [
        {
          "data": {
            "text/plain": [
              "'F1 на CV с балансированными классами: 0.751508005539078'"
            ]
          },
          "metadata": {},
          "output_type": "display_data"
        }
      ],
      "source": [
        "model_LR = LogisticRegression(class_weight='balanced')\n",
        "train_f1_balanced = cross_val_score(\n",
        "    model_LR, features_train, target_train, cv=3, scoring='f1').mean()\n",
        "display(f'F1 на CV с балансированными классами: {train_f1_ballanced}')"
      ]
    },
    {
      "cell_type": "markdown",
      "metadata": {
        "id": "j2MWKervgmoT"
      },
      "source": [
        "На обучающей выборке F1-мера увеличилась."
      ]
    },
    {
      "cell_type": "markdown",
      "metadata": {
        "id": "laGJo6JmgmoT"
      },
      "source": [
        "### Ресемплирование с уменьшением класса 0."
      ]
    },
    {
      "cell_type": "markdown",
      "metadata": {
        "id": "RWAlJ_CngmoU"
      },
      "source": [
        "Уровняем значения с классом 0 с значениями с классом 1."
      ]
    },
    {
      "cell_type": "code",
      "execution_count": null,
      "metadata": {
        "id": "DW8y9kSzgmoU"
      },
      "outputs": [],
      "source": [
        "data_train = data.iloc[target_train.index]\n",
        "\n",
        "target_train_zero = data_train[data_train['toxic'] == 0]['toxic']\n",
        "target_train_one = data_train[data_train['toxic'] == 1]['toxic']"
      ]
    },
    {
      "cell_type": "code",
      "execution_count": null,
      "metadata": {
        "id": "s57Y0sNygmoV"
      },
      "outputs": [],
      "source": [
        "target_train_zero_downsample = target_train_zero.sample(target_train_one.shape[0], random_state=12345)\n",
        "target_train_downsample = pd.concat([target_train_zero_downsample, target_train_one])\n",
        "\n",
        "features_train_downsample = data.iloc[target_train_downsample.index]\n",
        "features_train_downsample, target_train_downsample = shuffle(\n",
        "    features_train_downsample, target_train_downsample, random_state=12345)\n",
        "features_train_downsample = count_tf_idf.transform(\n",
        "    features_train_downsample['lemm_text'].values.astype('U'))"
      ]
    },
    {
      "cell_type": "code",
      "execution_count": null,
      "metadata": {
        "scrolled": true,
        "id": "3lNm_nbtgmoW",
        "outputId": "d949f1af-af35-4dea-e133-5a31fa0dfd9f"
      },
      "outputs": [
        {
          "ename": "NameError",
          "evalue": "name 'classificator' is not defined",
          "output_type": "error",
          "traceback": [
            "\u001b[0;31m---------------------------------------------------------------------------\u001b[0m",
            "\u001b[0;31mNameError\u001b[0m                                 Traceback (most recent call last)",
            "\u001b[0;32m/tmp/ipykernel_164/1629877814.py\u001b[0m in \u001b[0;36m<module>\u001b[0;34m\u001b[0m\n\u001b[1;32m      1\u001b[0m \u001b[0mmodel_LR\u001b[0m \u001b[0;34m=\u001b[0m \u001b[0mLogisticRegression\u001b[0m\u001b[0;34m(\u001b[0m\u001b[0;34m)\u001b[0m\u001b[0;34m\u001b[0m\u001b[0;34m\u001b[0m\u001b[0m\n\u001b[1;32m      2\u001b[0m f1_downsampled = cross_val_score(\n\u001b[0;32m----> 3\u001b[0;31m     classificator, features_train_downsample, target_train_downsample, cv=3, scoring='f1').mean()\n\u001b[0m\u001b[1;32m      4\u001b[0m \u001b[0mdisplay\u001b[0m\u001b[0;34m(\u001b[0m\u001b[0;34mf'F1 на CV с уменьшением классов: {f1_downsampled}'\u001b[0m\u001b[0;34m)\u001b[0m\u001b[0;34m\u001b[0m\u001b[0;34m\u001b[0m\u001b[0m\n",
            "\u001b[0;31mNameError\u001b[0m: name 'classificator' is not defined"
          ]
        }
      ],
      "source": [
        "model_LR = LogisticRegression()\n",
        "f1_downsampled = cross_val_score(\n",
        "    model_LR, features_train_downsample, target_train_downsample, cv=3, scoring='f1').mean()\n",
        "display(f'F1 на CV с уменьшением классов: {f1_downsampled}')"
      ]
    },
    {
      "cell_type": "markdown",
      "metadata": {
        "id": "4510yRM5gmoa"
      },
      "source": [
        "На обучающей выборке заметно F1-мера увеличилась."
      ]
    },
    {
      "cell_type": "markdown",
      "metadata": {
        "id": "XMQJFAxfgmob"
      },
      "source": [
        "### AUC-ROC:"
      ]
    },
    {
      "cell_type": "markdown",
      "metadata": {
        "id": "CILx-Vlsgmoc"
      },
      "source": [
        "Построим ROC-AUC графики и на основе этого выберем,какой метод балансировки будет наилучшим."
      ]
    },
    {
      "cell_type": "code",
      "execution_count": null,
      "metadata": {
        "scrolled": true,
        "id": "LxoSVWTagmof",
        "outputId": "a815766f-73f4-4ebf-a6a7-6bb395f9e0a1"
      },
      "outputs": [
        {
          "data": {
            "image/png": "[encoded data removed]",
            "text/plain": [
              "<Figure size 1080x648 with 1 Axes>"
            ]
          },
          "metadata": {
            "needs_background": "light"
          },
          "output_type": "display_data"
        }
      ],
      "source": [
        "plt.figure(figsize=(15,9))\n",
        "\n",
        "plt.plot([0, 1], [0, 1], linestyle='-', label='RandomModel')\n",
        "\n",
        "\n",
        "model_LR = LogisticRegression()\n",
        "model_LR.fit(features_train, target_train)\n",
        "probabilities_valid = model_LR.predict_proba(features_valid)\n",
        "probabilities_one_valid = probabilities_valid[:, 1]\n",
        "pred = model_LR.predict(features_valid)\n",
        "fpr, tpr, thresholds = roc_curve(target_valid, probabilities_one_valid)\n",
        "auc_roc = roc_auc_score(target_valid, probabilities_one_valid)\n",
        "valid_f1 = f1_score(target_valid, pred)\n",
        "plt.plot(fpr, tpr, label='LR')\n",
        "\n",
        "model_LR = LogisticRegression(class_weight=dict_classes)\n",
        "model_LR.fit(features_train, target_train)\n",
        "probabilities_valid = model_LR.predict_proba(features_valid)\n",
        "probabilities_one_valid = probabilities_valid[:, 1]\n",
        "pred = model_LR.predict(features_valid)\n",
        "fpr, tpr, thresholds = roc_curve(target_valid, probabilities_one_valid)\n",
        "auc_roc_balanced = roc_auc_score(target_valid, probabilities_one_valid)\n",
        "valid_f1_balanced = f1_score(target_valid, pred)\n",
        "plt.plot(fpr, tpr, label='balansed classes')\n",
        "\n",
        "model_LR = LogisticRegression()\n",
        "model_LR.fit(features_train_downsample,target_train_downsample)\n",
        "probabilities_valid = model_LR.predict_proba(features_valid)\n",
        "probabilities_one_valid = probabilities_valid[:, 1]\n",
        "pred = model_LR.predict(features_valid)\n",
        "fpr, tpr, thresholds = roc_curve(target_valid, probabilities_one_valid)\n",
        "auc_roc_downsampled = roc_auc_score(target_valid, probabilities_one_valid)\n",
        "valid_f1_downsampled = f1_score(target_valid, pred)\n",
        "plt.plot(fpr, tpr, label='downsampled classes')\n",
        "\n",
        "plt.xlim([0,1])\n",
        "plt.ylim([0,1])\n",
        "\n",
        "plt.xlabel(\"False Positive Rate\")\n",
        "plt.ylabel(\"True Positive Rate\")\n",
        "\n",
        "plt.legend(loc='lower right', fontsize='x-large')\n",
        "\n",
        "plt.title(\"ROC-кривая\")\n",
        "plt.show()"
      ]
    },
    {
      "cell_type": "markdown",
      "metadata": {
        "id": "dvtF5qsugmoj"
      },
      "source": [
        "### Вывод по первой главе:"
      ]
    },
    {
      "cell_type": "markdown",
      "metadata": {
        "id": "3Bf7Yp6Ygmol"
      },
      "source": [
        "Помимо выше написанного мини-вывода, добавлю еще немного слов о том, что сделал в этой главе.\n",
        "\n",
        "Сначала мы заметили, что класс 0 намного больше, чем класс 1, поэтому было принято решение сбалансировать классы. Для этого мы решили использовать изменение весов в модели обучения, downsampling и upsampling.\n",
        "\n",
        "После балансировки классов, для обнаружения лучшего способа балансировки был построен график ROC-кривой. Из нее можно увидеть, что наиболее подходящими показателями F1 и AUC-ROC обладает классификатор, где учтен вес классов. Поэтому, в дальнейшем будем использовать этот метод балансировки."
      ]
    },
    {
      "cell_type": "markdown",
      "metadata": {
        "id": "KQfDrB4Fgmoo"
      },
      "source": [
        "## Обучение"
      ]
    },
    {
      "cell_type": "markdown",
      "metadata": {
        "id": "KX952NT2gmoo"
      },
      "source": [
        "Для обучения выберем следующие модели:\n",
        "\n",
        "$1) DecisionTreeClassifier$\n",
        "\n",
        "$2) LogisticRegression$\n",
        "\n",
        "$3) SGDClassifier$\n",
        "\n",
        "$4) CatBoostClassifier$"
      ]
    },
    {
      "cell_type": "markdown",
      "metadata": {
        "id": "i42Uq-z_gmop"
      },
      "source": [
        "### DecisionTreeClassifier:"
      ]
    },
    {
      "cell_type": "code",
      "execution_count": null,
      "metadata": {
        "id": "22rXy-Chgmoq",
        "outputId": "e4aa9616-ee12-4075-854c-9c1b3569387d"
      },
      "outputs": [
        {
          "name": "stdout",
          "output_type": "stream",
          "text": [
            "Fitting 3 folds for each of 19 candidates, totalling 57 fits\n",
            "[CV 1/3; 1/19] START class_weight={0: 1, 1: 8.834884437596301}, max_depth=1.....\n",
            "[CV 1/3; 1/19] END class_weight={0: 1, 1: 8.834884437596301}, max_depth=1; total time=   3.2s\n",
            "[CV 2/3; 1/19] START class_weight={0: 1, 1: 8.834884437596301}, max_depth=1.....\n",
            "[CV 2/3; 1/19] END class_weight={0: 1, 1: 8.834884437596301}, max_depth=1; total time=   3.2s\n",
            "[CV 3/3; 1/19] START class_weight={0: 1, 1: 8.834884437596301}, max_depth=1.....\n",
            "[CV 3/3; 1/19] END class_weight={0: 1, 1: 8.834884437596301}, max_depth=1; total time=   3.4s\n",
            "[CV 1/3; 2/19] START class_weight={0: 1, 1: 8.834884437596301}, max_depth=2.....\n",
            "[CV 1/3; 2/19] END class_weight={0: 1, 1: 8.834884437596301}, max_depth=2; total time=   3.4s\n",
            "[CV 2/3; 2/19] START class_weight={0: 1, 1: 8.834884437596301}, max_depth=2.....\n",
            "[CV 2/3; 2/19] END class_weight={0: 1, 1: 8.834884437596301}, max_depth=2; total time=   3.3s\n",
            "[CV 3/3; 2/19] START class_weight={0: 1, 1: 8.834884437596301}, max_depth=2.....\n",
            "[CV 3/3; 2/19] END class_weight={0: 1, 1: 8.834884437596301}, max_depth=2; total time=   3.3s\n",
            "[CV 1/3; 3/19] START class_weight={0: 1, 1: 8.834884437596301}, max_depth=3.....\n",
            "[CV 1/3; 3/19] END class_weight={0: 1, 1: 8.834884437596301}, max_depth=3; total time=   3.6s\n",
            "[CV 2/3; 3/19] START class_weight={0: 1, 1: 8.834884437596301}, max_depth=3.....\n",
            "[CV 2/3; 3/19] END class_weight={0: 1, 1: 8.834884437596301}, max_depth=3; total time=   3.6s\n",
            "[CV 3/3; 3/19] START class_weight={0: 1, 1: 8.834884437596301}, max_depth=3.....\n",
            "[CV 3/3; 3/19] END class_weight={0: 1, 1: 8.834884437596301}, max_depth=3; total time=   3.7s\n",
            "[CV 1/3; 4/19] START class_weight={0: 1, 1: 8.834884437596301}, max_depth=4.....\n",
            "[CV 1/3; 4/19] END class_weight={0: 1, 1: 8.834884437596301}, max_depth=4; total time=   3.8s\n",
            "[CV 2/3; 4/19] START class_weight={0: 1, 1: 8.834884437596301}, max_depth=4.....\n",
            "[CV 2/3; 4/19] END class_weight={0: 1, 1: 8.834884437596301}, max_depth=4; total time=   3.8s\n",
            "[CV 3/3; 4/19] START class_weight={0: 1, 1: 8.834884437596301}, max_depth=4.....\n",
            "[CV 3/3; 4/19] END class_weight={0: 1, 1: 8.834884437596301}, max_depth=4; total time=   3.9s\n",
            "[CV 1/3; 5/19] START class_weight={0: 1, 1: 8.834884437596301}, max_depth=5.....\n",
            "[CV 1/3; 5/19] END class_weight={0: 1, 1: 8.834884437596301}, max_depth=5; total time=   4.1s\n",
            "[CV 2/3; 5/19] START class_weight={0: 1, 1: 8.834884437596301}, max_depth=5.....\n",
            "[CV 2/3; 5/19] END class_weight={0: 1, 1: 8.834884437596301}, max_depth=5; total time=   4.1s\n",
            "[CV 3/3; 5/19] START class_weight={0: 1, 1: 8.834884437596301}, max_depth=5.....\n",
            "[CV 3/3; 5/19] END class_weight={0: 1, 1: 8.834884437596301}, max_depth=5; total time=   4.2s\n",
            "[CV 1/3; 6/19] START class_weight={0: 1, 1: 8.834884437596301}, max_depth=6.....\n",
            "[CV 1/3; 6/19] END class_weight={0: 1, 1: 8.834884437596301}, max_depth=6; total time=   4.3s\n",
            "[CV 2/3; 6/19] START class_weight={0: 1, 1: 8.834884437596301}, max_depth=6.....\n",
            "[CV 2/3; 6/19] END class_weight={0: 1, 1: 8.834884437596301}, max_depth=6; total time=   4.4s\n",
            "[CV 3/3; 6/19] START class_weight={0: 1, 1: 8.834884437596301}, max_depth=6.....\n",
            "[CV 3/3; 6/19] END class_weight={0: 1, 1: 8.834884437596301}, max_depth=6; total time=   4.6s\n",
            "[CV 1/3; 7/19] START class_weight={0: 1, 1: 8.834884437596301}, max_depth=7.....\n",
            "[CV 1/3; 7/19] END class_weight={0: 1, 1: 8.834884437596301}, max_depth=7; total time=   4.9s\n",
            "[CV 2/3; 7/19] START class_weight={0: 1, 1: 8.834884437596301}, max_depth=7.....\n",
            "[CV 2/3; 7/19] END class_weight={0: 1, 1: 8.834884437596301}, max_depth=7; total time=   4.7s\n",
            "[CV 3/3; 7/19] START class_weight={0: 1, 1: 8.834884437596301}, max_depth=7.....\n",
            "[CV 3/3; 7/19] END class_weight={0: 1, 1: 8.834884437596301}, max_depth=7; total time=   4.6s\n",
            "[CV 1/3; 8/19] START class_weight={0: 1, 1: 8.834884437596301}, max_depth=8.....\n",
            "[CV 1/3; 8/19] END class_weight={0: 1, 1: 8.834884437596301}, max_depth=8; total time=   4.8s\n",
            "[CV 2/3; 8/19] START class_weight={0: 1, 1: 8.834884437596301}, max_depth=8.....\n",
            "[CV 2/3; 8/19] END class_weight={0: 1, 1: 8.834884437596301}, max_depth=8; total time=   4.9s\n",
            "[CV 3/3; 8/19] START class_weight={0: 1, 1: 8.834884437596301}, max_depth=8.....\n",
            "[CV 3/3; 8/19] END class_weight={0: 1, 1: 8.834884437596301}, max_depth=8; total time=   5.0s\n",
            "[CV 1/3; 9/19] START class_weight={0: 1, 1: 8.834884437596301}, max_depth=9.....\n",
            "[CV 1/3; 9/19] END class_weight={0: 1, 1: 8.834884437596301}, max_depth=9; total time=   5.6s\n",
            "[CV 2/3; 9/19] START class_weight={0: 1, 1: 8.834884437596301}, max_depth=9.....\n",
            "[CV 2/3; 9/19] END class_weight={0: 1, 1: 8.834884437596301}, max_depth=9; total time=   5.4s\n",
            "[CV 3/3; 9/19] START class_weight={0: 1, 1: 8.834884437596301}, max_depth=9.....\n",
            "[CV 3/3; 9/19] END class_weight={0: 1, 1: 8.834884437596301}, max_depth=9; total time=   5.4s\n",
            "[CV 1/3; 10/19] START class_weight={0: 1, 1: 8.834884437596301}, max_depth=10...\n",
            "[CV 1/3; 10/19] END class_weight={0: 1, 1: 8.834884437596301}, max_depth=10; total time=   5.6s\n",
            "[CV 2/3; 10/19] START class_weight={0: 1, 1: 8.834884437596301}, max_depth=10...\n",
            "[CV 2/3; 10/19] END class_weight={0: 1, 1: 8.834884437596301}, max_depth=10; total time=   5.7s\n",
            "[CV 3/3; 10/19] START class_weight={0: 1, 1: 8.834884437596301}, max_depth=10...\n",
            "[CV 3/3; 10/19] END class_weight={0: 1, 1: 8.834884437596301}, max_depth=10; total time=   5.8s\n",
            "[CV 1/3; 11/19] START class_weight={0: 1, 1: 8.834884437596301}, max_depth=11...\n",
            "[CV 1/3; 11/19] END class_weight={0: 1, 1: 8.834884437596301}, max_depth=11; total time=   6.3s\n",
            "[CV 2/3; 11/19] START class_weight={0: 1, 1: 8.834884437596301}, max_depth=11...\n",
            "[CV 2/3; 11/19] END class_weight={0: 1, 1: 8.834884437596301}, max_depth=11; total time=   6.0s\n",
            "[CV 3/3; 11/19] START class_weight={0: 1, 1: 8.834884437596301}, max_depth=11...\n",
            "[CV 3/3; 11/19] END class_weight={0: 1, 1: 8.834884437596301}, max_depth=11; total time=   5.9s\n",
            "[CV 1/3; 12/19] START class_weight={0: 1, 1: 8.834884437596301}, max_depth=12...\n",
            "[CV 1/3; 12/19] END class_weight={0: 1, 1: 8.834884437596301}, max_depth=12; total time=   6.2s\n",
            "[CV 2/3; 12/19] START class_weight={0: 1, 1: 8.834884437596301}, max_depth=12...\n",
            "[CV 2/3; 12/19] END class_weight={0: 1, 1: 8.834884437596301}, max_depth=12; total time=   6.2s\n",
            "[CV 3/3; 12/19] START class_weight={0: 1, 1: 8.834884437596301}, max_depth=12...\n",
            "[CV 3/3; 12/19] END class_weight={0: 1, 1: 8.834884437596301}, max_depth=12; total time=   6.2s\n",
            "[CV 1/3; 13/19] START class_weight={0: 1, 1: 8.834884437596301}, max_depth=13...\n",
            "[CV 1/3; 13/19] END class_weight={0: 1, 1: 8.834884437596301}, max_depth=13; total time=   6.7s\n",
            "[CV 2/3; 13/19] START class_weight={0: 1, 1: 8.834884437596301}, max_depth=13...\n",
            "[CV 2/3; 13/19] END class_weight={0: 1, 1: 8.834884437596301}, max_depth=13; total time=   6.6s\n",
            "[CV 3/3; 13/19] START class_weight={0: 1, 1: 8.834884437596301}, max_depth=13...\n",
            "[CV 3/3; 13/19] END class_weight={0: 1, 1: 8.834884437596301}, max_depth=13; total time=   7.7s\n",
            "[CV 1/3; 14/19] START class_weight={0: 1, 1: 8.834884437596301}, max_depth=14...\n",
            "[CV 1/3; 14/19] END class_weight={0: 1, 1: 8.834884437596301}, max_depth=14; total time=   7.0s\n",
            "[CV 2/3; 14/19] START class_weight={0: 1, 1: 8.834884437596301}, max_depth=14...\n",
            "[CV 2/3; 14/19] END class_weight={0: 1, 1: 8.834884437596301}, max_depth=14; total time=   6.9s\n",
            "[CV 3/3; 14/19] START class_weight={0: 1, 1: 8.834884437596301}, max_depth=14...\n",
            "[CV 3/3; 14/19] END class_weight={0: 1, 1: 8.834884437596301}, max_depth=14; total time=   6.8s\n",
            "[CV 1/3; 15/19] START class_weight={0: 1, 1: 8.834884437596301}, max_depth=15...\n",
            "[CV 1/3; 15/19] END class_weight={0: 1, 1: 8.834884437596301}, max_depth=15; total time=   7.5s\n",
            "[CV 2/3; 15/19] START class_weight={0: 1, 1: 8.834884437596301}, max_depth=15...\n",
            "[CV 2/3; 15/19] END class_weight={0: 1, 1: 8.834884437596301}, max_depth=15; total time=   7.3s\n",
            "[CV 3/3; 15/19] START class_weight={0: 1, 1: 8.834884437596301}, max_depth=15...\n",
            "[CV 3/3; 15/19] END class_weight={0: 1, 1: 8.834884437596301}, max_depth=15; total time=   7.4s\n",
            "[CV 1/3; 16/19] START class_weight={0: 1, 1: 8.834884437596301}, max_depth=16...\n",
            "[CV 1/3; 16/19] END class_weight={0: 1, 1: 8.834884437596301}, max_depth=16; total time=   7.9s\n",
            "[CV 2/3; 16/19] START class_weight={0: 1, 1: 8.834884437596301}, max_depth=16...\n",
            "[CV 2/3; 16/19] END class_weight={0: 1, 1: 8.834884437596301}, max_depth=16; total time=   7.7s\n",
            "[CV 3/3; 16/19] START class_weight={0: 1, 1: 8.834884437596301}, max_depth=16...\n",
            "[CV 3/3; 16/19] END class_weight={0: 1, 1: 8.834884437596301}, max_depth=16; total time=   7.8s\n",
            "[CV 1/3; 17/19] START class_weight={0: 1, 1: 8.834884437596301}, max_depth=17...\n",
            "[CV 1/3; 17/19] END class_weight={0: 1, 1: 8.834884437596301}, max_depth=17; total time=   8.2s\n",
            "[CV 2/3; 17/19] START class_weight={0: 1, 1: 8.834884437596301}, max_depth=17...\n",
            "[CV 2/3; 17/19] END class_weight={0: 1, 1: 8.834884437596301}, max_depth=17; total time=   7.9s\n",
            "[CV 3/3; 17/19] START class_weight={0: 1, 1: 8.834884437596301}, max_depth=17...\n",
            "[CV 3/3; 17/19] END class_weight={0: 1, 1: 8.834884437596301}, max_depth=17; total time=   8.2s\n",
            "[CV 1/3; 18/19] START class_weight={0: 1, 1: 8.834884437596301}, max_depth=18...\n",
            "[CV 1/3; 18/19] END class_weight={0: 1, 1: 8.834884437596301}, max_depth=18; total time=   8.8s\n",
            "[CV 2/3; 18/19] START class_weight={0: 1, 1: 8.834884437596301}, max_depth=18...\n",
            "[CV 2/3; 18/19] END class_weight={0: 1, 1: 8.834884437596301}, max_depth=18; total time=   8.4s\n",
            "[CV 3/3; 18/19] START class_weight={0: 1, 1: 8.834884437596301}, max_depth=18...\n",
            "[CV 3/3; 18/19] END class_weight={0: 1, 1: 8.834884437596301}, max_depth=18; total time=   8.7s\n",
            "[CV 1/3; 19/19] START class_weight={0: 1, 1: 8.834884437596301}, max_depth=19...\n",
            "[CV 1/3; 19/19] END class_weight={0: 1, 1: 8.834884437596301}, max_depth=19; total time=   9.3s\n",
            "[CV 2/3; 19/19] START class_weight={0: 1, 1: 8.834884437596301}, max_depth=19...\n",
            "[CV 2/3; 19/19] END class_weight={0: 1, 1: 8.834884437596301}, max_depth=19; total time=   8.7s\n",
            "[CV 3/3; 19/19] START class_weight={0: 1, 1: 8.834884437596301}, max_depth=19...\n",
            "[CV 3/3; 19/19] END class_weight={0: 1, 1: 8.834884437596301}, max_depth=19; total time=   9.0s\n"
          ]
        }
      ],
      "source": [
        "model_tree = DecisionTreeClassifier(random_state=12345)\n",
        "\n",
        "model_tree_parametrs = {'max_depth': range(1, 20),\n",
        "                       'class_weight': [dict_classes]}\n",
        "model_tree_grid = GridSearchCV(model_tree, model_tree_parametrs, scoring='f1', cv=3, verbose=10)\n",
        "model_tree_grid.fit(features_train, target_train)\n",
        "tree_best_params = model_tree_grid.best_params_"
      ]
    },
    {
      "cell_type": "code",
      "execution_count": null,
      "metadata": {
        "id": "BaaJ2Mo_gmos",
        "outputId": "9c8891b5-03e5-4be9-c062-81b34dd37e15"
      },
      "outputs": [
        {
          "data": {
            "text/plain": [
              "'F1: 0.6013936037162766'"
            ]
          },
          "metadata": {},
          "output_type": "display_data"
        }
      ],
      "source": [
        "model_tree = DecisionTreeClassifier(random_state=12345)\n",
        "model_tree.set_params(**tree_best_params)\n",
        "model_tree.fit(features_train, target_train)\n",
        "predict = model_tree.predict(features_valid)\n",
        "valid_f1_tree = f1_score(target_valid, predict)\n",
        "display(f'F1: {valid_f1_tree}')"
      ]
    },
    {
      "cell_type": "markdown",
      "metadata": {
        "id": "tNCctjAUgmov"
      },
      "source": [
        "### LogisticRegression:"
      ]
    },
    {
      "cell_type": "code",
      "execution_count": null,
      "metadata": {
        "id": "ag9hDN5Zgmow"
      },
      "outputs": [],
      "source": [
        "model_LR = LogisticRegression()\n",
        "model_LR_parametrs = [{'solver': ['newton-cg', 'lbfgs', 'liblinear'],\n",
        "                    'C': [0.1, 1, 10],\n",
        "                    'class_weight': [dict_classes]}]\n",
        "\n",
        "model_LR_grid = GridSearchCV(model_LR, model_LR_parametrs, scoring='f1', cv=3)\n",
        "model_LR_grid.fit(features_train, target_train)\n",
        "LR_best_params = model_LR_grid.best_params_"
      ]
    },
    {
      "cell_type": "code",
      "execution_count": null,
      "metadata": {
        "id": "gNVPGq0Mgmox",
        "outputId": "da690a93-3a8c-4641-c4a7-e416357bc046"
      },
      "outputs": [
        {
          "data": {
            "text/plain": [
              "'F1: 0.7676588183029764'"
            ]
          },
          "metadata": {},
          "output_type": "display_data"
        }
      ],
      "source": [
        "model_LR = LogisticRegression()\n",
        "model_LR.set_params(**LR_best_params)\n",
        "model_LR.fit(features_train, target_train)\n",
        "predict = model_LR.predict(features_valid)\n",
        "valid_f1_LR = f1_score(target_valid, predict)\n",
        "display(f'F1: {valid_f1_LR}')"
      ]
    },
    {
      "cell_type": "markdown",
      "metadata": {
        "id": "qAMF8cmqgmoz"
      },
      "source": [
        "Значение F1-меры значительно увеличилось."
      ]
    },
    {
      "cell_type": "markdown",
      "metadata": {
        "id": "nJBLwJj0gmo0"
      },
      "source": [
        "### SGDClassifier:\n"
      ]
    },
    {
      "cell_type": "code",
      "execution_count": null,
      "metadata": {
        "id": "pHwK_CHOgmo1"
      },
      "outputs": [],
      "source": [
        "model_sgdc = SGDClassifier(random_state=12345)\n",
        "model_sgdc_parametrs = [{'loss':['hinge', 'log', 'modified_huber'],\n",
        "                        'learning_rate':['constant', 'optimal', 'invscaling', 'adaptive'],\n",
        "                        'eta0':[0.01, 0.05, 0.1, 0.2, 0.3, 0.5],\n",
        "                        'class_weight': [dict_classes]}]\n",
        "\n",
        "\n",
        "model_sgdc_grid = GridSearchCV(model_sgdc, model_sgdc_parametrs, scoring='f1',cv=3)\n",
        "model_sgdc_grid.fit(features_train, target_train)\n",
        "model_sgdc_params = model_sgdc_grid.best_params_"
      ]
    },
    {
      "cell_type": "code",
      "execution_count": null,
      "metadata": {
        "id": "aUgcms_Fgmo2",
        "outputId": "c5386468-6a0c-462e-d55f-092e39e15f3f"
      },
      "outputs": [
        {
          "data": {
            "text/plain": [
              "'F1 на валидации: 0.7641205325858444'"
            ]
          },
          "metadata": {},
          "output_type": "display_data"
        }
      ],
      "source": [
        "model_sgdc = SGDClassifier()\n",
        "model_sgdc.set_params(**model_sgdc_params)\n",
        "model_sgdc.fit(features_train, target_train)\n",
        "predict = model_sgdc.predict(features_valid)\n",
        "f1_SGDC = f1_score(target_valid, predict)\n",
        "display(f'F1 на валидации: {f1_SGDC}')"
      ]
    },
    {
      "cell_type": "markdown",
      "metadata": {
        "id": "WTGw_1e8gmo2"
      },
      "source": [
        "### CatBoostClassifier:"
      ]
    },
    {
      "cell_type": "code",
      "execution_count": null,
      "metadata": {
        "id": "ljL3cJiwgmo3",
        "outputId": "94f44138-e084-4671-da54-0d87c957309a"
      },
      "outputs": [
        {
          "name": "stdout",
          "output_type": "stream",
          "text": [
            "Fitting 3 folds for each of 3 candidates, totalling 9 fits\n",
            "[CV 1/3; 1/3] START depth=1, learning_rate=0.1..................................\n",
            "[CV 1/3; 1/3] END ................depth=1, learning_rate=0.1; total time= 1.1min\n",
            "[CV 2/3; 1/3] START depth=1, learning_rate=0.1..................................\n",
            "[CV 2/3; 1/3] END ................depth=1, learning_rate=0.1; total time= 1.2min\n",
            "[CV 3/3; 1/3] START depth=1, learning_rate=0.1..................................\n",
            "[CV 3/3; 1/3] END ................depth=1, learning_rate=0.1; total time= 1.2min\n",
            "[CV 1/3; 2/3] START depth=3, learning_rate=0.1..................................\n",
            "[CV 1/3; 2/3] END ................depth=3, learning_rate=0.1; total time= 2.2min\n",
            "[CV 2/3; 2/3] START depth=3, learning_rate=0.1..................................\n",
            "[CV 2/3; 2/3] END ................depth=3, learning_rate=0.1; total time= 2.2min\n",
            "[CV 3/3; 2/3] START depth=3, learning_rate=0.1..................................\n",
            "[CV 3/3; 2/3] END ................depth=3, learning_rate=0.1; total time= 2.2min\n",
            "[CV 1/3; 3/3] START depth=5, learning_rate=0.1..................................\n",
            "[CV 1/3; 3/3] END ................depth=5, learning_rate=0.1; total time= 4.3min\n",
            "[CV 2/3; 3/3] START depth=5, learning_rate=0.1..................................\n",
            "[CV 2/3; 3/3] END ................depth=5, learning_rate=0.1; total time= 4.4min\n",
            "[CV 3/3; 3/3] START depth=5, learning_rate=0.1..................................\n",
            "[CV 3/3; 3/3] END ................depth=5, learning_rate=0.1; total time= 4.6min\n"
          ]
        }
      ],
      "source": [
        "model_cb = CatBoostClassifier(verbose=False, iterations=200)\n",
        "model_cb.fit(features_train, target_train)\n",
        "model_cb_parametrs = {'depth': range(1, 6, 2),\n",
        "                    'learning_rate' : [0.1]}\n",
        "\n",
        "model_cb_grid = GridSearchCV(model_cb, model_cb_parametrs, scoring='f1', cv=3, verbose=10)\n",
        "model_cb_grid.fit(features_train, target_train)\n",
        "model_cb_params = model_cb_grid.best_params_\n"
      ]
    },
    {
      "cell_type": "code",
      "execution_count": null,
      "metadata": {
        "id": "jHzs7Zmpgmo4",
        "outputId": "33de9e54-c565-41ae-a71d-c247d5a5f047"
      },
      "outputs": [
        {
          "data": {
            "text/plain": [
              "'F1: 0.685091475282211'"
            ]
          },
          "metadata": {},
          "output_type": "display_data"
        }
      ],
      "source": [
        "model_cb = CatBoostClassifier(verbose=False, iterations=200)\n",
        "model_cb.set_params(**model_cb_params)\n",
        "model_cb.fit(features_train, target_train)\n",
        "predict = model_cb.predict(features_valid)\n",
        "valid_f1_cb = f1_score(target_valid, predict)\n",
        "display(f'F1: {valid_f1_cb}')"
      ]
    },
    {
      "cell_type": "markdown",
      "metadata": {
        "id": "SQl3hTiAgmo6"
      },
      "source": [
        "### Вывод:"
      ]
    },
    {
      "cell_type": "markdown",
      "metadata": {
        "id": "n9tKnypIgmo8"
      },
      "source": [
        "В этой главе мы протестировали 4 разных модели,а именно DecisionTreeClassifier, LogisticRegression, SGDClassifier, CatBoostClassifier, на валидационной выборке. Сначала мы нашли для них наилучшие гиперпараметры, а позже посчитали для них f1-меру. С задачей,а именно f1 > 0.75 справились только две модели: SGDClassifier и LogisticRegression. Их мы и будем использовать в дальнейшем на тестовой выборке."
      ]
    },
    {
      "cell_type": "markdown",
      "metadata": {
        "id": "PtvWRLmLgmo-"
      },
      "source": [
        "## Выводы"
      ]
    },
    {
      "cell_type": "markdown",
      "metadata": {
        "id": "f9clo9bCgmo-"
      },
      "source": [
        "Построем такой же график ROC-кривой, как в пункте 1.7, но уже для двух моделей: SGDClassifier и LogisticRegression"
      ]
    },
    {
      "cell_type": "code",
      "execution_count": null,
      "metadata": {
        "scrolled": true,
        "id": "UD_23Ukygmo_",
        "outputId": "49b0cb84-ab86-4a96-fa1a-757c580e3700"
      },
      "outputs": [
        {
          "data": {
            "text/plain": [
              "'Метрики LogisticRegression'"
            ]
          },
          "metadata": {},
          "output_type": "display_data"
        },
        {
          "data": {
            "text/plain": [
              "'ROC_AUC :0.9644859975874468'"
            ]
          },
          "metadata": {},
          "output_type": "display_data"
        },
        {
          "data": {
            "text/plain": [
              "'F1-мера :0.7646619907476495'"
            ]
          },
          "metadata": {},
          "output_type": "display_data"
        },
        {
          "data": {
            "text/plain": [
              "'Метрики SGDClassifier'"
            ]
          },
          "metadata": {},
          "output_type": "display_data"
        },
        {
          "data": {
            "text/plain": [
              "'ROC AUC: 0.9691380413389833'"
            ]
          },
          "metadata": {},
          "output_type": "display_data"
        },
        {
          "data": {
            "text/plain": [
              "'F1: 0.7569542006181512'"
            ]
          },
          "metadata": {},
          "output_type": "display_data"
        },
        {
          "data": {
            "image/png": "[encoded data removed]",
            "text/plain": [
              "<Figure size 1080x648 with 1 Axes>"
            ]
          },
          "metadata": {
            "needs_background": "light"
          },
          "output_type": "display_data"
        }
      ],
      "source": [
        "plt.figure(figsize=(15,9))\n",
        "\n",
        "plt.plot([0, 1], [0, 1], linestyle='-', label='RandomModel')\n",
        "\n",
        "\n",
        "model_LR = LogisticRegression()\n",
        "model_LR.set_params(**LR_best_params)\n",
        "model_LR.fit(features_train, target_train)\n",
        "probabilities_test = model_LR.predict_proba(features_test)\n",
        "probabilities_one_test = probabilities_test[:, 1]\n",
        "pred = model_LR.predict(features_test)\n",
        "fpr, tpr, thresholds = roc_curve(target_test, probabilities_one_test)\n",
        "display('Метрики LogisticRegression')\n",
        "display(f'ROC_AUC :{roc_auc_score(target_test, probabilities_one_test)}')\n",
        "display(f'F1-мера :{f1_score(target_test, pred)}')\n",
        "plt.plot(fpr, tpr, label='LR')\n",
        "\n",
        "model_sgdc = SGDClassifier()\n",
        "model_sgdc.set_params(**model_sgdc_params)\n",
        "model_sgdc.fit(features_train, target_train)\n",
        "probabilities_test = model_sgdc.predict_proba(features_test)\n",
        "probabilities_one_test = probabilities_test[:, 1]\n",
        "fpr, tpr, thresholds = roc_curve(target_test, probabilities_one_test)\n",
        "predict_test = model_sgdc.predict(features_test)\n",
        "plt.plot(fpr, tpr, label='SGDClassifier')\n",
        "display('Метрики SGDClassifier')\n",
        "display(f'ROC AUC: {roc_auc_score(target_test, probabilities_one_test)}')\n",
        "display(f'F1: {f1_score(target_test, predict_test)}')\n",
        "plt.xlim([0,1])\n",
        "plt.ylim([0,1])\n",
        "\n",
        "plt.xlabel(\"False Positive Rate\")\n",
        "plt.ylabel(\"True Positive Rate\")\n",
        "\n",
        "plt.legend(loc='lower right', fontsize='x-large')\n",
        "\n",
        "plt.title(\"ROC-кривая\")\n",
        "plt.show()"
      ]
    },
    {
      "cell_type": "markdown",
      "metadata": {
        "id": "uKO5-TiOgmpC"
      },
      "source": [
        "### Итоговый вывод:"
      ]
    },
    {
      "cell_type": "markdown",
      "metadata": {
        "id": "46hB_tU5gmpG"
      },
      "source": [
        "В рамках проекта для интернет-магазин «Викишоп»,который запускает новый сервис, где теперь пользователи могут редактировать и дополнять описания товаров, как в вики-сообществах. Магазину понадобился инструмент, который будет искать токсичные комментарии и отправлять их на модерацию.\n",
        "\n",
        "Для того, чтобы справиться с этой задачей мы сначала импортировали данные и проверили первичный анализ, т.е проверили на пропуски и дубликаты, таковых не нашлось. Дальше я решил обратить внимание на классы, для этого использовал countplot из seaborn. На графике было видно, что отрицательных комментариев ГОРАЗДО больше, чем положительных. Я решил узнать какова разница. Разница составила - 8.83, т.е положительных комментариев почти в 9 раз меньше, чем отрицательных. После обнаружения данной проблемы я начал бороться с дисбалансом. После успешной борьбы с дисбалансом, я перешел к обучению моделей. Для обучения были выбраны 4 модели: DecisionTreeClassifier, LogisticRegression, SGDClassifier, CatBoostClassifier. После обучения и тестирования лучше всех себя показала модель LogisticRegression. Её и рекомендуется использовать для работы."
      ]
    },
    {
      "cell_type": "code",
      "execution_count": null,
      "metadata": {
        "id": "rrPgNBK-gmpK"
      },
      "outputs": [],
      "source": []
    }
  ],
  "metadata": {
    "ExecuteTimeLog": [
      {
        "duration": 3143,
        "start_time": "2022-08-17T20:52:19.826Z"
      },
      {
        "duration": 3109,
        "start_time": "2022-08-17T20:53:08.065Z"
      },
      {
        "duration": 10,
        "start_time": "2022-08-17T20:53:46.216Z"
      },
      {
        "duration": 10,
        "start_time": "2022-08-17T20:54:42.789Z"
      },
      {
        "duration": 25,
        "start_time": "2022-08-17T20:54:59.289Z"
      },
      {
        "duration": 192,
        "start_time": "2022-08-17T20:55:12.252Z"
      },
      {
        "duration": 105,
        "start_time": "2022-08-17T20:55:29.025Z"
      },
      {
        "duration": 4,
        "start_time": "2022-08-17T20:55:38.027Z"
      },
      {
        "duration": 30,
        "start_time": "2022-08-17T20:55:53.545Z"
      },
      {
        "duration": 725,
        "start_time": "2022-08-17T20:59:12.101Z"
      },
      {
        "duration": 0,
        "start_time": "2022-08-17T21:00:15.382Z"
      },
      {
        "duration": 1987,
        "start_time": "2022-08-17T21:02:02.651Z"
      },
      {
        "duration": 3093,
        "start_time": "2022-08-17T21:02:08.792Z"
      },
      {
        "duration": 12,
        "start_time": "2022-08-17T21:02:30.292Z"
      },
      {
        "duration": 29,
        "start_time": "2022-08-17T21:02:32.419Z"
      },
      {
        "duration": 25,
        "start_time": "2022-08-17T21:02:41.400Z"
      },
      {
        "duration": 204,
        "start_time": "2022-08-17T21:02:48.886Z"
      },
      {
        "duration": 3,
        "start_time": "2022-08-17T21:02:50.381Z"
      },
      {
        "duration": 65850,
        "start_time": "2022-08-17T21:02:51.669Z"
      },
      {
        "duration": 0,
        "start_time": "2022-08-17T21:03:57.522Z"
      },
      {
        "duration": 93,
        "start_time": "2022-08-17T21:04:35.436Z"
      },
      {
        "duration": 109,
        "start_time": "2022-08-17T21:09:44.193Z"
      },
      {
        "duration": 92,
        "start_time": "2022-08-17T21:10:02.201Z"
      },
      {
        "duration": 7,
        "start_time": "2022-08-17T21:12:41.783Z"
      },
      {
        "duration": 3891,
        "start_time": "2022-08-18T08:55:43.227Z"
      },
      {
        "duration": 3538,
        "start_time": "2022-08-18T08:55:49.239Z"
      },
      {
        "duration": 25,
        "start_time": "2022-08-18T08:55:57.275Z"
      },
      {
        "duration": 47,
        "start_time": "2022-08-18T08:56:01.336Z"
      },
      {
        "duration": 44,
        "start_time": "2022-08-18T08:56:04.382Z"
      },
      {
        "duration": 151,
        "start_time": "2022-08-18T08:56:48.150Z"
      },
      {
        "duration": 100,
        "start_time": "2022-08-18T08:56:57.269Z"
      },
      {
        "duration": 53,
        "start_time": "2022-08-18T08:57:05.776Z"
      },
      {
        "duration": 350,
        "start_time": "2022-08-18T08:57:07.744Z"
      },
      {
        "duration": 5,
        "start_time": "2022-08-18T08:57:10.328Z"
      },
      {
        "duration": 1540,
        "start_time": "2022-08-18T08:57:24.925Z"
      },
      {
        "duration": 44,
        "start_time": "2022-08-18T08:57:34.142Z"
      },
      {
        "duration": 56,
        "start_time": "2022-08-18T08:58:22.778Z"
      },
      {
        "duration": 57,
        "start_time": "2022-08-18T08:58:24.784Z"
      },
      {
        "duration": 239,
        "start_time": "2022-08-18T08:58:29.228Z"
      },
      {
        "duration": 11,
        "start_time": "2022-08-18T08:58:30.606Z"
      },
      {
        "duration": 144,
        "start_time": "2022-08-18T08:58:32.295Z"
      },
      {
        "duration": 10,
        "start_time": "2022-08-18T08:58:34.727Z"
      },
      {
        "duration": 115899,
        "start_time": "2022-08-18T09:04:41.955Z"
      },
      {
        "duration": 7,
        "start_time": "2022-08-18T09:06:37.856Z"
      },
      {
        "duration": 70,
        "start_time": "2022-08-18T09:14:03.065Z"
      },
      {
        "duration": 83,
        "start_time": "2022-08-18T09:15:06.767Z"
      },
      {
        "duration": 12853,
        "start_time": "2022-08-18T09:15:27.970Z"
      },
      {
        "duration": 17,
        "start_time": "2022-08-18T09:19:11.136Z"
      },
      {
        "duration": 6,
        "start_time": "2022-08-18T09:22:34.349Z"
      },
      {
        "duration": 12765,
        "start_time": "2022-08-18T09:22:44.698Z"
      },
      {
        "duration": 134454,
        "start_time": "2022-08-18T09:23:02.082Z"
      },
      {
        "duration": 12,
        "start_time": "2022-08-18T09:26:22.154Z"
      },
      {
        "duration": 13,
        "start_time": "2022-08-18T09:26:23.274Z"
      },
      {
        "duration": 153079,
        "start_time": "2022-08-18T09:27:04.328Z"
      },
      {
        "duration": 83514,
        "start_time": "2022-08-18T09:29:37.429Z"
      },
      {
        "duration": 5,
        "start_time": "2022-08-18T09:31:00.949Z"
      },
      {
        "duration": 30,
        "start_time": "2022-08-18T09:39:48.635Z"
      },
      {
        "duration": 50,
        "start_time": "2022-08-18T09:41:49.576Z"
      },
      {
        "duration": 21,
        "start_time": "2022-08-18T09:42:53.755Z"
      },
      {
        "duration": 6,
        "start_time": "2022-08-18T09:43:32.896Z"
      },
      {
        "duration": 1400,
        "start_time": "2022-08-18T09:43:36.648Z"
      },
      {
        "duration": 66,
        "start_time": "2022-08-18T09:45:10.701Z"
      },
      {
        "duration": 45490,
        "start_time": "2022-08-18T09:45:18.943Z"
      },
      {
        "duration": 5,
        "start_time": "2022-08-18T09:59:10.779Z"
      },
      {
        "duration": 113394,
        "start_time": "2022-08-18T10:01:49.790Z"
      },
      {
        "duration": 123855,
        "start_time": "2022-08-18T10:04:33.772Z"
      },
      {
        "duration": 23,
        "start_time": "2022-08-18T10:16:31.942Z"
      },
      {
        "duration": 15,
        "start_time": "2022-08-18T10:36:50.615Z"
      },
      {
        "duration": 426,
        "start_time": "2022-08-18T10:37:35.421Z"
      },
      {
        "duration": 358,
        "start_time": "2022-08-18T10:38:07.255Z"
      },
      {
        "duration": 366,
        "start_time": "2022-08-18T10:39:24.858Z"
      },
      {
        "duration": 329,
        "start_time": "2022-08-18T10:40:13.860Z"
      },
      {
        "duration": 11945,
        "start_time": "2022-08-18T10:40:30.237Z"
      },
      {
        "duration": 366,
        "start_time": "2022-08-18T10:40:42.184Z"
      },
      {
        "duration": 332,
        "start_time": "2022-08-18T10:40:56.630Z"
      },
      {
        "duration": 321,
        "start_time": "2022-08-18T10:41:20.774Z"
      },
      {
        "duration": 327,
        "start_time": "2022-08-18T10:41:31.935Z"
      },
      {
        "duration": 324,
        "start_time": "2022-08-18T10:41:46.591Z"
      },
      {
        "duration": 0,
        "start_time": "2022-08-18T10:49:19.088Z"
      },
      {
        "duration": 0,
        "start_time": "2022-08-18T10:49:19.090Z"
      },
      {
        "duration": 392282,
        "start_time": "2022-08-18T10:49:22.385Z"
      },
      {
        "duration": 14,
        "start_time": "2022-08-18T10:55:54.669Z"
      },
      {
        "duration": 15,
        "start_time": "2022-08-18T10:56:13.201Z"
      },
      {
        "duration": 11038,
        "start_time": "2022-08-18T10:56:33.415Z"
      },
      {
        "duration": 10856,
        "start_time": "2022-08-18T10:56:53.415Z"
      },
      {
        "duration": 54,
        "start_time": "2022-08-18T11:15:46.290Z"
      },
      {
        "duration": 16,
        "start_time": "2022-08-18T11:16:04.190Z"
      },
      {
        "duration": 15,
        "start_time": "2022-08-18T11:16:13.350Z"
      },
      {
        "duration": 55779,
        "start_time": "2022-08-18T11:16:42.160Z"
      },
      {
        "duration": 0,
        "start_time": "2022-08-18T11:23:18.901Z"
      },
      {
        "duration": 611272,
        "start_time": "2022-08-18T11:23:28.689Z"
      },
      {
        "duration": 34831,
        "start_time": "2022-08-18T11:33:39.963Z"
      },
      {
        "duration": 33408,
        "start_time": "2022-08-18T11:35:19.468Z"
      },
      {
        "duration": 12,
        "start_time": "2022-08-18T11:37:51.542Z"
      },
      {
        "duration": 21,
        "start_time": "2022-08-18T11:38:02.215Z"
      },
      {
        "duration": 1733668,
        "start_time": "2022-08-18T11:38:10.132Z"
      },
      {
        "duration": 303,
        "start_time": "2022-08-18T12:07:03.806Z"
      },
      {
        "duration": 286,
        "start_time": "2022-08-18T12:09:35.337Z"
      },
      {
        "duration": 4,
        "start_time": "2022-08-18T12:10:16.414Z"
      },
      {
        "duration": 143,
        "start_time": "2022-08-18T12:11:11.725Z"
      },
      {
        "duration": 33304,
        "start_time": "2022-08-18T12:12:03.264Z"
      },
      {
        "duration": 173,
        "start_time": "2022-08-18T12:13:11.547Z"
      },
      {
        "duration": 10,
        "start_time": "2022-08-18T12:14:23.623Z"
      },
      {
        "duration": 19,
        "start_time": "2022-08-18T12:14:43.815Z"
      },
      {
        "duration": 28,
        "start_time": "2022-08-18T12:14:51.474Z"
      },
      {
        "duration": 157,
        "start_time": "2022-08-18T12:16:57.178Z"
      },
      {
        "duration": 145,
        "start_time": "2022-08-18T12:17:10.601Z"
      },
      {
        "duration": 283,
        "start_time": "2022-08-18T12:17:30.748Z"
      },
      {
        "duration": 1857,
        "start_time": "2022-08-18T12:17:37.158Z"
      },
      {
        "duration": 26489,
        "start_time": "2022-08-18T12:17:46.389Z"
      },
      {
        "duration": 3513,
        "start_time": "2022-08-18T12:19:06.923Z"
      },
      {
        "duration": 1492818,
        "start_time": "2022-08-18T12:20:43.157Z"
      },
      {
        "duration": 3749,
        "start_time": "2022-08-18T12:45:35.977Z"
      },
      {
        "duration": 0,
        "start_time": "2022-08-18T14:20:10.388Z"
      },
      {
        "duration": 0,
        "start_time": "2022-08-18T14:20:10.390Z"
      },
      {
        "duration": 0,
        "start_time": "2022-08-18T14:20:10.391Z"
      },
      {
        "duration": 0,
        "start_time": "2022-08-18T14:20:10.393Z"
      },
      {
        "duration": 0,
        "start_time": "2022-08-18T14:20:10.394Z"
      },
      {
        "duration": 6,
        "start_time": "2022-08-18T14:20:37.553Z"
      },
      {
        "duration": 15,
        "start_time": "2022-08-18T14:20:44.681Z"
      },
      {
        "duration": 49,
        "start_time": "2022-08-18T14:20:53.555Z"
      },
      {
        "duration": 39,
        "start_time": "2022-08-18T14:21:36.733Z"
      },
      {
        "duration": 38,
        "start_time": "2022-08-18T14:22:10.852Z"
      },
      {
        "duration": 33,
        "start_time": "2022-08-18T14:22:59.576Z"
      },
      {
        "duration": 16,
        "start_time": "2022-08-18T14:24:15.083Z"
      },
      {
        "duration": 183198,
        "start_time": "2022-08-18T15:07:52.039Z"
      },
      {
        "duration": 1855,
        "start_time": "2022-08-18T15:10:55.239Z"
      },
      {
        "duration": 2129767,
        "start_time": "2022-08-18T15:10:57.095Z"
      },
      {
        "duration": 309744,
        "start_time": "2022-08-18T15:46:26.863Z"
      },
      {
        "duration": 296784,
        "start_time": "2022-08-18T16:10:29.847Z"
      },
      {
        "duration": 55,
        "start_time": "2022-08-18T16:24:16.843Z"
      },
      {
        "duration": 72,
        "start_time": "2022-08-18T16:24:30.450Z"
      },
      {
        "duration": 34772,
        "start_time": "2022-08-18T16:24:40.610Z"
      },
      {
        "duration": 37226,
        "start_time": "2022-08-18T16:26:52.780Z"
      },
      {
        "duration": 1888,
        "start_time": "2022-08-19T04:23:57.586Z"
      },
      {
        "duration": 2148,
        "start_time": "2022-08-19T04:23:59.476Z"
      },
      {
        "duration": 18,
        "start_time": "2022-08-19T04:24:01.626Z"
      },
      {
        "duration": 36,
        "start_time": "2022-08-19T04:24:01.647Z"
      },
      {
        "duration": 39,
        "start_time": "2022-08-19T04:24:01.685Z"
      },
      {
        "duration": 32,
        "start_time": "2022-08-19T04:24:01.726Z"
      },
      {
        "duration": 248,
        "start_time": "2022-08-19T04:24:01.760Z"
      },
      {
        "duration": 5,
        "start_time": "2022-08-19T04:24:02.009Z"
      },
      {
        "duration": 124,
        "start_time": "2022-08-19T04:24:02.016Z"
      },
      {
        "duration": 8,
        "start_time": "2022-08-19T04:24:02.144Z"
      },
      {
        "duration": 84771,
        "start_time": "2022-08-19T04:24:02.154Z"
      },
      {
        "duration": 7,
        "start_time": "2022-08-19T04:25:26.927Z"
      },
      {
        "duration": 10819,
        "start_time": "2022-08-19T04:25:26.935Z"
      },
      {
        "duration": 104052,
        "start_time": "2022-08-19T04:25:37.755Z"
      },
      {
        "duration": 116393,
        "start_time": "2022-08-19T04:27:21.808Z"
      },
      {
        "duration": 62818,
        "start_time": "2022-08-19T04:29:18.203Z"
      },
      {
        "duration": 87,
        "start_time": "2022-08-19T04:30:21.023Z"
      },
      {
        "duration": 1227,
        "start_time": "2022-08-19T04:30:21.111Z"
      },
      {
        "duration": 118,
        "start_time": "2022-08-19T04:30:22.340Z"
      },
      {
        "duration": 0,
        "start_time": "2022-08-19T04:30:22.460Z"
      },
      {
        "duration": 0,
        "start_time": "2022-08-19T04:30:22.461Z"
      },
      {
        "duration": 0,
        "start_time": "2022-08-19T04:30:22.462Z"
      },
      {
        "duration": 0,
        "start_time": "2022-08-19T04:30:22.463Z"
      },
      {
        "duration": 0,
        "start_time": "2022-08-19T04:30:22.464Z"
      },
      {
        "duration": 0,
        "start_time": "2022-08-19T04:30:22.465Z"
      },
      {
        "duration": 0,
        "start_time": "2022-08-19T04:30:22.466Z"
      },
      {
        "duration": 0,
        "start_time": "2022-08-19T04:30:22.467Z"
      },
      {
        "duration": 0,
        "start_time": "2022-08-19T04:30:22.468Z"
      },
      {
        "duration": 0,
        "start_time": "2022-08-19T04:30:22.472Z"
      },
      {
        "duration": 95178,
        "start_time": "2022-08-19T05:45:25.116Z"
      },
      {
        "duration": 341255,
        "start_time": "2022-08-19T05:47:00.296Z"
      },
      {
        "duration": 9863,
        "start_time": "2022-08-19T05:52:41.553Z"
      },
      {
        "duration": 560027,
        "start_time": "2022-08-19T05:52:51.418Z"
      },
      {
        "duration": 35110,
        "start_time": "2022-08-19T06:02:11.447Z"
      },
      {
        "duration": 181198,
        "start_time": "2022-08-19T06:02:46.559Z"
      },
      {
        "duration": 1704,
        "start_time": "2022-08-19T06:05:47.759Z"
      },
      {
        "duration": 2112542,
        "start_time": "2022-08-19T06:05:49.464Z"
      },
      {
        "duration": 303477,
        "start_time": "2022-08-19T06:41:02.009Z"
      },
      {
        "duration": 33600,
        "start_time": "2022-08-19T06:46:05.490Z"
      },
      {
        "duration": 1896,
        "start_time": "2022-11-17T09:31:57.801Z"
      },
      {
        "duration": 2906,
        "start_time": "2022-11-17T09:32:01.750Z"
      },
      {
        "duration": 15,
        "start_time": "2022-11-17T09:32:05.409Z"
      },
      {
        "duration": 32,
        "start_time": "2022-11-17T09:32:07.314Z"
      },
      {
        "duration": 27,
        "start_time": "2022-11-17T09:32:08.622Z"
      },
      {
        "duration": 26,
        "start_time": "2022-11-17T09:32:09.995Z"
      },
      {
        "duration": 230,
        "start_time": "2022-11-17T09:32:11.120Z"
      },
      {
        "duration": 4,
        "start_time": "2022-11-17T09:32:11.607Z"
      },
      {
        "duration": 114,
        "start_time": "2022-11-17T09:32:12.907Z"
      },
      {
        "duration": 7,
        "start_time": "2022-11-17T09:32:13.642Z"
      },
      {
        "duration": 3,
        "start_time": "2022-11-17T09:32:16.278Z"
      },
      {
        "duration": 329,
        "start_time": "2022-11-17T09:32:17.519Z"
      }
    ],
    "kernelspec": {
      "display_name": "Python 3 (ipykernel)",
      "language": "python",
      "name": "python3"
    },
    "language_info": {
      "codemirror_mode": {
        "name": "ipython",
        "version": 3
      },
      "file_extension": ".py",
      "mimetype": "text/x-python",
      "name": "python",
      "nbconvert_exporter": "python",
      "pygments_lexer": "ipython3",
      "version": "3.9.5"
    },
    "toc": {
      "base_numbering": 1,
      "nav_menu": {},
      "number_sections": true,
      "sideBar": true,
      "skip_h1_title": true,
      "title_cell": "Содержание",
      "title_sidebar": "Contents",
      "toc_cell": true,
      "toc_position": {
        "height": "calc(100% - 180px)",
        "left": "10px",
        "top": "150px",
        "width": "302.391px"
      },
      "toc_section_display": true,
      "toc_window_display": false
    },
    "colab": {
      "provenance": []
    }
  },
  "nbformat": 4,
  "nbformat_minor": 0
}